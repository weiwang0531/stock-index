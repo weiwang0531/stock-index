{
 "cells": [
  {
   "cell_type": "markdown",
   "metadata": {},
   "source": [
    "Hopefully this is going to be the start of our project."
   ]
  },
  {
   "cell_type": "markdown",
   "metadata": {},
   "source": [
    "Test"
   ]
  },
  {
   "cell_type": "code",
   "execution_count": 5,
   "metadata": {
    "collapsed": true
   },
   "outputs": [],
   "source": [
    "import sys\n",
    "import csv\n",
    "import json\n",
    "import requests"
   ]
  },
  {
   "cell_type": "code",
   "execution_count": 6,
   "metadata": {
    "collapsed": true
   },
   "outputs": [],
   "source": [
    "def lookup(jurisdiction, number):\n",
    "    url = 'http://api.opencorporates.com/companies/' + jurisdiction + '/' + number\n",
    "    response = requests.get(url)\n",
    "    if response.status_code == 200:\n",
    "        data = json.loads(response.text)\n",
    "        company = data['results']['company']\n",
    "        return {\n",
    "            'name': company['name'],\n",
    "            'type': company['company_type'],\n",
    "            'incorporated': company['incorporation_date'],\n",
    "            'address': company['registered_address_in_full']\n",
    "        }\n",
    "    else:\n",
    "        print('Error: ' + str(response.status_code))"
   ]
  },
  {
   "cell_type": "code",
   "execution_count": 7,
   "metadata": {
    "collapsed": false
   },
   "outputs": [
    {
     "name": "stdout",
     "output_type": "stream",
     "text": [
      "Error: 404\n",
      "None\n"
     ]
    }
   ],
   "source": [
    "print(lookup(sys.argv[1], sys.argv[2]))\n"
   ]
  },
  {
   "cell_type": "code",
   "execution_count": 9,
   "metadata": {
    "collapsed": false
   },
   "outputs": [
    {
     "data": {
      "text/plain": [
       "['/Users/audreychu/anaconda/lib/python2.7/site-packages/ipykernel/__main__.py',\n",
       " '-f',\n",
       " '/Users/audreychu/Library/Jupyter/runtime/kernel-2a43a2c9-8519-458f-990a-ad9d9651c8a6.json']"
      ]
     },
     "execution_count": 9,
     "metadata": {},
     "output_type": "execute_result"
    }
   ],
   "source": [
    "sys.argv"
   ]
  },
  {
   "cell_type": "markdown",
   "metadata": {
    "collapsed": true
   },
   "source": [
    "yay it worked! wowowow"
   ]
  },
  {
   "cell_type": "code",
   "execution_count": null,
   "metadata": {
    "collapsed": true
   },
   "outputs": [],
   "source": []
  }
 ],
 "metadata": {
  "anaconda-cloud": {},
  "kernelspec": {
   "display_name": "Python [conda root]",
   "language": "python",
   "name": "conda-root-py"
  },
  "language_info": {
   "codemirror_mode": {
    "name": "ipython",
    "version": 2
   },
   "file_extension": ".py",
   "mimetype": "text/x-python",
   "name": "python",
   "nbconvert_exporter": "python",
   "pygments_lexer": "ipython2",
   "version": "2.7.12"
  }
 },
 "nbformat": 4,
 "nbformat_minor": 1
}
