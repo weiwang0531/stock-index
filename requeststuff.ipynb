{
 "cells": [
  {
   "cell_type": "markdown",
   "metadata": {},
   "source": [
    "## This is hopefully a page to port our query yahoo finance with requests"
   ]
  },
  {
   "cell_type": "markdown",
   "metadata": {},
   "source": [
    "We're gonna recreate functionality from these two files with requests to cache and hopefully deal with NA's.\n",
    "https://github.com/lukaszbanasiak/yahoo-finance/tree/master/yahoo_finance"
   ]
  },
  {
   "cell_type": "code",
   "execution_count": 1,
   "metadata": {
    "collapsed": true
   },
   "outputs": [],
   "source": [
    "import requests\n",
    "import requests_cache"
   ]
  },
  {
   "cell_type": "code",
   "execution_count": 2,
   "metadata": {
    "collapsed": true
   },
   "outputs": [],
   "source": [
    "requests_cache.install_cache('rcache')"
   ]
  },
  {
   "cell_type": "code",
   "execution_count": 3,
   "metadata": {
    "collapsed": true
   },
   "outputs": [],
   "source": [
    "# Yahoo! YQL API\n",
    "PUBLIC_API_URL = 'https://query.yahooapis.com/v1/public/yql'\n",
    "OAUTH_API_URL = 'https://query.yahooapis.com/v1/yql'\n",
    "DATATABLES_URL = 'store://datatables.org/alltableswithkeys'"
   ]
  },
  {
   "cell_type": "code",
   "execution_count": null,
   "metadata": {
    "collapsed": true
   },
   "outputs": [],
   "source": [
    "# example of the code from yahoo financefunction\n",
    "# this will ideally be the part replicated with reqeusts\n",
    "\n",
    "class YQLQuery(object):\n",
    "\n",
    "    def execute(self, yql, token=None):\n",
    "        req = urlopen(PUBLIC_API_URL + '?' + urlencode({\n",
    "            'q': yql,\n",
    "            'format': 'json',\n",
    "            'env': DATATABLES_URL\n",
    "        }))\n",
    "        return loads(req.read())"
   ]
  },
  {
   "cell_type": "code",
   "execution_count": null,
   "metadata": {
    "collapsed": true
   },
   "outputs": [],
   "source": [
    "# This is the part of the query returning \n",
    "    def get_historical(self, start_date, end_date):\n",
    "        \"\"\"\n",
    "        Get Yahoo Finance Stock historical prices\n",
    "        :param start_date: string date in format '2009-09-11'\n",
    "        :param end_date: string date in format '2009-09-11'\n",
    "        :return: list\n",
    "        \"\"\"\n",
    "        hist = []\n",
    "        for s, e in get_date_range(start_date, end_date):\n",
    "            try:\n",
    "                query = self._prepare_query(table='historicaldata', startDate=s, endDate=e)\n",
    "                result = self._request(query)\n",
    "                if isinstance(result, dict):\n",
    "                    result = [result]\n",
    "                hist.extend(result)\n",
    "            except AttributeError:\n",
    "                pass\n",
    "        return hist"
   ]
  },
  {
   "cell_type": "code",
   "execution_count": null,
   "metadata": {
    "collapsed": true
   },
   "outputs": [],
   "source": [
    "# This is the part of the code that builds the query\n",
    "    def _prepare_query(self, table='quotes', key='symbol', **kwargs):\n",
    "        \"\"\"\n",
    "        Simple YQL query bulder\n",
    "        \"\"\"\n",
    "        query = 'select * from yahoo.finance.{table} where {key} = \"{symbol}\"'.format(\n",
    "            symbol=self.symbol, table=table, key=key)\n",
    "        if kwargs:\n",
    "            query += ''.join(' and {0}=\"{1}\"'.format(k, v)\n",
    "                             for k, v in kwargs.items())\n",
    "        return query"
   ]
  },
  {
   "cell_type": "code",
   "execution_count": 60,
   "metadata": {
    "collapsed": false
   },
   "outputs": [
    {
     "data": {
      "text/plain": [
       "<Response [400]>"
      ]
     },
     "execution_count": 60,
     "metadata": {},
     "output_type": "execute_result"
    }
   ],
   "source": [
    "# Will start building requests package in this cell\n",
    "# Known parameters: 'q' will be a YQL query\n",
    "# table='historicaldata'\n",
    "# NEED to figure out what key and symbol are in this query from get_historical() above\n",
    "params = {'q':'select * from yahoo.finance.historicaldata where symbol in (\"YHOO\",\"AAPL\",\"GOOG\",\"MSFT\")','format':'json'}\n",
    "req = requests.get(PUBLIC_API_URL, params=params)\n",
    "req"
   ]
  },
  {
   "cell_type": "code",
   "execution_count": 61,
   "metadata": {
    "collapsed": false
   },
   "outputs": [
    {
     "data": {
      "text/plain": [
       "u'https://query.yahooapis.com/v1/public/yql?format=json&q=select+%2A+from+yahoo.finance.historicaldata+where+symbol+in+%28%22YHOO%22%2C%22AAPL%22%2C%22GOOG%22%2C%22MSFT%22%29'"
      ]
     },
     "execution_count": 61,
     "metadata": {},
     "output_type": "execute_result"
    }
   ],
   "source": [
    "req.url"
   ]
  },
  {
   "cell_type": "code",
   "execution_count": 14,
   "metadata": {
    "collapsed": true
   },
   "outputs": [],
   "source": [
    "#example for diff query found online at https://developer.yahoo.com/yql/#python\n",
    "baseurl = \"https://query.yahooapis.com/v1/public/yql?\"\n",
    "yql_query = \"select wind from weather.forecast where woeid=2460286\""
   ]
  },
  {
   "cell_type": "code",
   "execution_count": 38,
   "metadata": {
    "collapsed": false
   },
   "outputs": [
    {
     "data": {
      "text/plain": [
       "[u'query']"
      ]
     },
     "execution_count": 38,
     "metadata": {},
     "output_type": "execute_result"
    }
   ],
   "source": [
    "# this is to demonstrate functionality of requests to contact yahoo api\n",
    "r =requests.get(baseurl, params = {'q':yql_query,\n",
    "                               'format':'json'})\n",
    "rjson = r.json()\n",
    "rjson.keys()"
   ]
  },
  {
   "cell_type": "code",
   "execution_count": 30,
   "metadata": {
    "collapsed": false
   },
   "outputs": [
    {
     "data": {
      "text/plain": [
       "[u'count', u'lang', u'results', u'created']"
      ]
     },
     "execution_count": 30,
     "metadata": {},
     "output_type": "execute_result"
    }
   ],
   "source": [
    "rjson[u'query'].keys()"
   ]
  },
  {
   "cell_type": "code",
   "execution_count": 32,
   "metadata": {
    "collapsed": false
   },
   "outputs": [
    {
     "data": {
      "text/plain": [
       "[u'channel']"
      ]
     },
     "execution_count": 32,
     "metadata": {},
     "output_type": "execute_result"
    }
   ],
   "source": [
    "rjson[u'query'][u'results'].keys()"
   ]
  },
  {
   "cell_type": "code",
   "execution_count": 37,
   "metadata": {
    "collapsed": false
   },
   "outputs": [
    {
     "data": {
      "text/plain": [
       "{u'chill': u'-17', u'direction': u'0', u'speed': u'7'}"
      ]
     },
     "execution_count": 37,
     "metadata": {},
     "output_type": "execute_result"
    }
   ],
   "source": [
    "rjson[u'query'][u'results'][u'channel'][u'wind']"
   ]
  }
 ],
 "metadata": {
  "anaconda-cloud": {},
  "kernelspec": {
   "display_name": "Python [default]",
   "language": "python",
   "name": "python2"
  },
  "language_info": {
   "codemirror_mode": {
    "name": "ipython",
    "version": 2
   },
   "file_extension": ".py",
   "mimetype": "text/x-python",
   "name": "python",
   "nbconvert_exporter": "python",
   "pygments_lexer": "ipython2",
   "version": "2.7.12"
  }
 },
 "nbformat": 4,
 "nbformat_minor": 1
}
