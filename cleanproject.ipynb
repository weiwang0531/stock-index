{
 "cells": [
  {
   "cell_type": "code",
   "execution_count": 1,
   "metadata": {
    "collapsed": false
   },
   "outputs": [],
   "source": [
    "import sys\n",
    "import csv\n",
    "import json\n",
    "import requests\n",
    "import requests_cache\n",
    "import numpy as np\n",
    "import pandas as pd\n",
    "#from yahoo_finance import Share\n",
    "from pprint import pprint \n",
    "from datetime import datetime\n",
    "import matplotlib.pyplot as plt\n",
    "\n",
    "import matplotlib as mpl\n",
    "%matplotlib inline\n",
    "\n",
    "import seaborn as sns\n",
    "sns.set_style('white', {\"xtick.major.size\": 2, \"ytick.major.size\": 2})\n",
    "flatui = [\"#9b59b6\", \"#3498db\", \"#95a5a6\", \"#e74c3c\", \"#34495e\", \"#2ecc71\",\"#f4cae4\"]\n",
    "sns.set_palette(sns.color_palette(flatui,7))\n",
    "\n",
    "import missingno as msno"
   ]
  },
  {
   "cell_type": "code",
   "execution_count": 2,
   "metadata": {
    "collapsed": true
   },
   "outputs": [],
   "source": [
    "requests_cache.install_cache('cache')"
   ]
  },
  {
   "cell_type": "code",
   "execution_count": 3,
   "metadata": {
    "collapsed": true
   },
   "outputs": [],
   "source": [
    "# Yahoo! YQL API\n",
    "PUBLIC_API_URL = 'https://query.yahooapis.com/v1/public/yql'\n",
    "OAUTH_API_URL = 'https://query.yahooapis.com/v1/yql'\n",
    "DATATABLES_URL = 'store://datatables.org/alltableswithkeys'\n",
    "\n",
    "def myreq(ticker, start, end):\n",
    "    '''\n",
    "    input ticker & dates as strings form 'YYYY-MM-DD'\n",
    "    '''\n",
    "    params = {'format':'json',\n",
    "             'env':DATATABLES_URL}\n",
    "    query = 'select * from yahoo.finance.historicaldata where symbol = \"{}\" and startDate = \"{}\" and endDate = \"{}\"'.format(ticker,start, end)\n",
    "    params.update({'q':query})\n",
    "    req = requests.get(PUBLIC_API_URL, params=params)\n",
    "    req.raise_for_status()\n",
    "    req = req.json()\n",
    "    if req['query']['count'] > 0:\n",
    "        result = req['query']['results']['quote']\n",
    "        return result\n",
    "    else:\n",
    "        pass"
   ]
  },
  {
   "cell_type": "code",
   "execution_count": 4,
   "metadata": {
    "collapsed": true
   },
   "outputs": [],
   "source": [
    "#NEW price function\n",
    "def price2(ticker):\n",
    "    date=[]\n",
    "    price=[]\n",
    "    report = []\n",
    "    \n",
    "    years = [2006,2007,2008,2009,2010,2011,2012,2013,2014,2015,2016]\n",
    "    for x in range(len(years)):\n",
    "        c = myreq(ticker,'{}-01-01'.format(years[x]),'{}-12-31'.format(years[x]))\n",
    "        try:\n",
    "        \n",
    "            for i in range(0,len(c)):\n",
    "                date.append(pd.to_datetime(c[i][\"Date\"]))\n",
    "                price.append(float(c[i][u'Close']))\n",
    "                datef = pd.DataFrame(date)\n",
    "                pricef = pd.DataFrame(price)\n",
    "                table1 = pd.concat([datef,pricef],axis = 1)\n",
    "                table1.columns = ['Date', ticker]\n",
    "                table1 = table1.set_index(\"Date\")\n",
    "            \n",
    "        except Exception:\n",
    "            table1 = pd.DataFrame()\n",
    "    \n",
    "    return table1"
   ]
  },
  {
   "cell_type": "code",
   "execution_count": 5,
   "metadata": {
    "collapsed": false
   },
   "outputs": [],
   "source": [
    "csv = pd.read_csv('./companylist.csv')\n",
    "# We want to keep \"Finance, Health Care, Technology, Energy\"\n",
    "newcsv = csv[csv[\"Sector\"].isin([\"Finance\", \"Energy\",\"Health Care\",\"Technology\"])].reset_index()\n",
    "del newcsv[\"index\"]"
   ]
  },
  {
   "cell_type": "code",
   "execution_count": 6,
   "metadata": {
    "collapsed": false
   },
   "outputs": [],
   "source": [
    "whole_list = newcsv['Symbol']"
   ]
  },
  {
   "cell_type": "code",
   "execution_count": 7,
   "metadata": {
    "collapsed": false
   },
   "outputs": [
    {
     "data": {
      "text/plain": [
       "\"\\nfor l in whole_list:\\n    get = price2(l)\\n    try:\\n        df = pd.concat([df,get],axis = 1)    # concat. by column \\n    except NameError:\\n        df = pd.DataFrame(get)    # initialize automatically\\n# SAVE THE RESULT LOCALLY:\\ndf.to_pickle('mydf')\\n\""
      ]
     },
     "execution_count": 7,
     "metadata": {},
     "output_type": "execute_result"
    }
   ],
   "source": [
    "'''\n",
    "for l in whole_list:\n",
    "    get = price2(l)\n",
    "    try:\n",
    "        df = pd.concat([df,get],axis = 1)    # concat. by column \n",
    "    except NameError:\n",
    "        df = pd.DataFrame(get)    # initialize automatically\n",
    "# SAVE THE RESULT LOCALLY:\n",
    "df.to_pickle('mydf')\n",
    "'''"
   ]
  },
  {
   "cell_type": "code",
   "execution_count": 8,
   "metadata": {
    "collapsed": false
   },
   "outputs": [],
   "source": [
    "df = pd.read_pickle('mydf')"
   ]
  },
  {
   "cell_type": "code",
   "execution_count": 9,
   "metadata": {
    "collapsed": false
   },
   "outputs": [],
   "source": [
    "# this allows us to control size of a dataframe displayed to examine our data in depth\n",
    "pd.options.display.max_columns = 20\n",
    "pd.options.display.max_rows = 30"
   ]
  },
  {
   "cell_type": "code",
   "execution_count": 10,
   "metadata": {
    "collapsed": false,
    "scrolled": false
   },
   "outputs": [
    {
     "data": {
      "text/html": [
       "<div>\n",
       "<table border=\"1\" class=\"dataframe\">\n",
       "  <thead>\n",
       "    <tr style=\"text-align: right;\">\n",
       "      <th></th>\n",
       "      <th>PIH</th>\n",
       "      <th>FCCY</th>\n",
       "      <th>SRCE</th>\n",
       "      <th>VNET</th>\n",
       "      <th>TWOU</th>\n",
       "      <th>JOBS</th>\n",
       "      <th>ABEO</th>\n",
       "      <th>ABIL</th>\n",
       "      <th>ABMD</th>\n",
       "      <th>AXAS</th>\n",
       "      <th>...</th>\n",
       "      <th>ZLTQ</th>\n",
       "      <th>ZN</th>\n",
       "      <th>ZION</th>\n",
       "      <th>ZIONW</th>\n",
       "      <th>ZIOP</th>\n",
       "      <th>ZIXI</th>\n",
       "      <th>ZGNX</th>\n",
       "      <th>ZSAN</th>\n",
       "      <th>ZYNE</th>\n",
       "      <th>ZNGA</th>\n",
       "    </tr>\n",
       "    <tr>\n",
       "      <th>Date</th>\n",
       "      <th></th>\n",
       "      <th></th>\n",
       "      <th></th>\n",
       "      <th></th>\n",
       "      <th></th>\n",
       "      <th></th>\n",
       "      <th></th>\n",
       "      <th></th>\n",
       "      <th></th>\n",
       "      <th></th>\n",
       "      <th></th>\n",
       "      <th></th>\n",
       "      <th></th>\n",
       "      <th></th>\n",
       "      <th></th>\n",
       "      <th></th>\n",
       "      <th></th>\n",
       "      <th></th>\n",
       "      <th></th>\n",
       "      <th></th>\n",
       "      <th></th>\n",
       "    </tr>\n",
       "  </thead>\n",
       "  <tbody>\n",
       "    <tr>\n",
       "      <th>2006-01-02</th>\n",
       "      <td>NaN</td>\n",
       "      <td>NaN</td>\n",
       "      <td>NaN</td>\n",
       "      <td>NaN</td>\n",
       "      <td>NaN</td>\n",
       "      <td>NaN</td>\n",
       "      <td>NaN</td>\n",
       "      <td>NaN</td>\n",
       "      <td>NaN</td>\n",
       "      <td>NaN</td>\n",
       "      <td>...</td>\n",
       "      <td>NaN</td>\n",
       "      <td>NaN</td>\n",
       "      <td>NaN</td>\n",
       "      <td>NaN</td>\n",
       "      <td>NaN</td>\n",
       "      <td>NaN</td>\n",
       "      <td>NaN</td>\n",
       "      <td>NaN</td>\n",
       "      <td>NaN</td>\n",
       "      <td>NaN</td>\n",
       "    </tr>\n",
       "    <tr>\n",
       "      <th>2006-01-03</th>\n",
       "      <td>NaN</td>\n",
       "      <td>21.499973</td>\n",
       "      <td>25.830002</td>\n",
       "      <td>NaN</td>\n",
       "      <td>NaN</td>\n",
       "      <td>14.95</td>\n",
       "      <td>0.51</td>\n",
       "      <td>NaN</td>\n",
       "      <td>9.35</td>\n",
       "      <td>5.55</td>\n",
       "      <td>...</td>\n",
       "      <td>NaN</td>\n",
       "      <td>NaN</td>\n",
       "      <td>76.480003</td>\n",
       "      <td>NaN</td>\n",
       "      <td>3.60</td>\n",
       "      <td>1.93</td>\n",
       "      <td>NaN</td>\n",
       "      <td>NaN</td>\n",
       "      <td>NaN</td>\n",
       "      <td>NaN</td>\n",
       "    </tr>\n",
       "    <tr>\n",
       "      <th>2006-01-04</th>\n",
       "      <td>NaN</td>\n",
       "      <td>21.499973</td>\n",
       "      <td>25.659998</td>\n",
       "      <td>NaN</td>\n",
       "      <td>NaN</td>\n",
       "      <td>14.79</td>\n",
       "      <td>0.47</td>\n",
       "      <td>NaN</td>\n",
       "      <td>9.62</td>\n",
       "      <td>5.55</td>\n",
       "      <td>...</td>\n",
       "      <td>NaN</td>\n",
       "      <td>NaN</td>\n",
       "      <td>77.019997</td>\n",
       "      <td>NaN</td>\n",
       "      <td>4.00</td>\n",
       "      <td>2.04</td>\n",
       "      <td>NaN</td>\n",
       "      <td>NaN</td>\n",
       "      <td>NaN</td>\n",
       "      <td>NaN</td>\n",
       "    </tr>\n",
       "    <tr>\n",
       "      <th>2006-01-05</th>\n",
       "      <td>NaN</td>\n",
       "      <td>20.999980</td>\n",
       "      <td>25.820004</td>\n",
       "      <td>NaN</td>\n",
       "      <td>NaN</td>\n",
       "      <td>16.15</td>\n",
       "      <td>0.46</td>\n",
       "      <td>NaN</td>\n",
       "      <td>9.55</td>\n",
       "      <td>5.81</td>\n",
       "      <td>...</td>\n",
       "      <td>NaN</td>\n",
       "      <td>NaN</td>\n",
       "      <td>77.720001</td>\n",
       "      <td>NaN</td>\n",
       "      <td>4.00</td>\n",
       "      <td>2.20</td>\n",
       "      <td>NaN</td>\n",
       "      <td>NaN</td>\n",
       "      <td>NaN</td>\n",
       "      <td>NaN</td>\n",
       "    </tr>\n",
       "    <tr>\n",
       "      <th>2006-01-06</th>\n",
       "      <td>NaN</td>\n",
       "      <td>20.519969</td>\n",
       "      <td>25.950002</td>\n",
       "      <td>NaN</td>\n",
       "      <td>NaN</td>\n",
       "      <td>17.08</td>\n",
       "      <td>0.45</td>\n",
       "      <td>NaN</td>\n",
       "      <td>9.75</td>\n",
       "      <td>5.95</td>\n",
       "      <td>...</td>\n",
       "      <td>NaN</td>\n",
       "      <td>NaN</td>\n",
       "      <td>78.529999</td>\n",
       "      <td>NaN</td>\n",
       "      <td>4.25</td>\n",
       "      <td>2.09</td>\n",
       "      <td>NaN</td>\n",
       "      <td>NaN</td>\n",
       "      <td>NaN</td>\n",
       "      <td>NaN</td>\n",
       "    </tr>\n",
       "  </tbody>\n",
       "</table>\n",
       "<p>5 rows × 1675 columns</p>\n",
       "</div>"
      ],
      "text/plain": [
       "            PIH       FCCY       SRCE  VNET  TWOU   JOBS  ABEO  ABIL  ABMD  \\\n",
       "Date                                                                         \n",
       "2006-01-02  NaN        NaN        NaN   NaN   NaN    NaN   NaN   NaN   NaN   \n",
       "2006-01-03  NaN  21.499973  25.830002   NaN   NaN  14.95  0.51   NaN  9.35   \n",
       "2006-01-04  NaN  21.499973  25.659998   NaN   NaN  14.79  0.47   NaN  9.62   \n",
       "2006-01-05  NaN  20.999980  25.820004   NaN   NaN  16.15  0.46   NaN  9.55   \n",
       "2006-01-06  NaN  20.519969  25.950002   NaN   NaN  17.08  0.45   NaN  9.75   \n",
       "\n",
       "            AXAS  ...   ZLTQ  ZN       ZION  ZIONW  ZIOP  ZIXI  ZGNX  ZSAN  \\\n",
       "Date              ...                                                        \n",
       "2006-01-02   NaN  ...    NaN NaN        NaN    NaN   NaN   NaN   NaN   NaN   \n",
       "2006-01-03  5.55  ...    NaN NaN  76.480003    NaN  3.60  1.93   NaN   NaN   \n",
       "2006-01-04  5.55  ...    NaN NaN  77.019997    NaN  4.00  2.04   NaN   NaN   \n",
       "2006-01-05  5.81  ...    NaN NaN  77.720001    NaN  4.00  2.20   NaN   NaN   \n",
       "2006-01-06  5.95  ...    NaN NaN  78.529999    NaN  4.25  2.09   NaN   NaN   \n",
       "\n",
       "            ZYNE  ZNGA  \n",
       "Date                    \n",
       "2006-01-02   NaN   NaN  \n",
       "2006-01-03   NaN   NaN  \n",
       "2006-01-04   NaN   NaN  \n",
       "2006-01-05   NaN   NaN  \n",
       "2006-01-06   NaN   NaN  \n",
       "\n",
       "[5 rows x 1675 columns]"
      ]
     },
     "execution_count": 10,
     "metadata": {},
     "output_type": "execute_result"
    }
   ],
   "source": [
    "df.head()"
   ]
  },
  {
   "cell_type": "code",
   "execution_count": 11,
   "metadata": {
    "collapsed": false
   },
   "outputs": [],
   "source": [
    "final = newcsv.reset_index()\n",
    "df_long = df.transpose()\n",
    "sector  = final[['Symbol','Sector']]\n",
    "sector = sector.set_index('Symbol')"
   ]
  },
  {
   "cell_type": "code",
   "execution_count": 12,
   "metadata": {
    "collapsed": false
   },
   "outputs": [],
   "source": [
    "final = df_long.join(sector)"
   ]
  },
  {
   "cell_type": "code",
   "execution_count": 13,
   "metadata": {
    "collapsed": false
   },
   "outputs": [],
   "source": [
    "final = final.drop(['EVAR', 'LFVN'])"
   ]
  },
  {
   "cell_type": "code",
   "execution_count": 14,
   "metadata": {
    "collapsed": false
   },
   "outputs": [
    {
     "data": {
      "text/html": [
       "<div>\n",
       "<table border=\"1\" class=\"dataframe\">\n",
       "  <thead>\n",
       "    <tr style=\"text-align: right;\">\n",
       "      <th></th>\n",
       "      <th>2006-01-02 00:00:00</th>\n",
       "      <th>2006-01-03 00:00:00</th>\n",
       "      <th>2006-01-04 00:00:00</th>\n",
       "      <th>2006-01-05 00:00:00</th>\n",
       "      <th>2006-01-06 00:00:00</th>\n",
       "      <th>2006-01-09 00:00:00</th>\n",
       "      <th>2006-01-10 00:00:00</th>\n",
       "      <th>2006-01-11 00:00:00</th>\n",
       "      <th>2006-01-12 00:00:00</th>\n",
       "      <th>2006-01-13 00:00:00</th>\n",
       "      <th>...</th>\n",
       "      <th>2016-12-20 00:00:00</th>\n",
       "      <th>2016-12-21 00:00:00</th>\n",
       "      <th>2016-12-22 00:00:00</th>\n",
       "      <th>2016-12-23 00:00:00</th>\n",
       "      <th>2016-12-26 00:00:00</th>\n",
       "      <th>2016-12-27 00:00:00</th>\n",
       "      <th>2016-12-28 00:00:00</th>\n",
       "      <th>2016-12-29 00:00:00</th>\n",
       "      <th>2016-12-30 00:00:00</th>\n",
       "      <th>Sector</th>\n",
       "    </tr>\n",
       "  </thead>\n",
       "  <tbody>\n",
       "    <tr>\n",
       "      <th>PIH</th>\n",
       "      <td>NaN</td>\n",
       "      <td>NaN</td>\n",
       "      <td>NaN</td>\n",
       "      <td>NaN</td>\n",
       "      <td>NaN</td>\n",
       "      <td>NaN</td>\n",
       "      <td>NaN</td>\n",
       "      <td>NaN</td>\n",
       "      <td>NaN</td>\n",
       "      <td>NaN</td>\n",
       "      <td>...</td>\n",
       "      <td>7.601000</td>\n",
       "      <td>7.583000</td>\n",
       "      <td>7.400000</td>\n",
       "      <td>7.650000</td>\n",
       "      <td>NaN</td>\n",
       "      <td>7.400000</td>\n",
       "      <td>7.400000</td>\n",
       "      <td>7.250000</td>\n",
       "      <td>7.800000</td>\n",
       "      <td>Finance</td>\n",
       "    </tr>\n",
       "    <tr>\n",
       "      <th>FCCY</th>\n",
       "      <td>NaN</td>\n",
       "      <td>21.499973</td>\n",
       "      <td>21.499973</td>\n",
       "      <td>20.999980</td>\n",
       "      <td>20.519969</td>\n",
       "      <td>20.249976</td>\n",
       "      <td>19.999980</td>\n",
       "      <td>20.369968</td>\n",
       "      <td>20.000001</td>\n",
       "      <td>20.779999</td>\n",
       "      <td>...</td>\n",
       "      <td>17.549999</td>\n",
       "      <td>17.350000</td>\n",
       "      <td>17.280001</td>\n",
       "      <td>17.350000</td>\n",
       "      <td>NaN</td>\n",
       "      <td>18.100000</td>\n",
       "      <td>18.250000</td>\n",
       "      <td>18.000000</td>\n",
       "      <td>18.700001</td>\n",
       "      <td>Finance</td>\n",
       "    </tr>\n",
       "    <tr>\n",
       "      <th>SRCE</th>\n",
       "      <td>NaN</td>\n",
       "      <td>25.830002</td>\n",
       "      <td>25.659998</td>\n",
       "      <td>25.820004</td>\n",
       "      <td>25.950002</td>\n",
       "      <td>25.999997</td>\n",
       "      <td>25.999997</td>\n",
       "      <td>25.999997</td>\n",
       "      <td>25.940002</td>\n",
       "      <td>25.989997</td>\n",
       "      <td>...</td>\n",
       "      <td>45.000000</td>\n",
       "      <td>44.439999</td>\n",
       "      <td>44.400002</td>\n",
       "      <td>44.200001</td>\n",
       "      <td>NaN</td>\n",
       "      <td>44.740002</td>\n",
       "      <td>44.700001</td>\n",
       "      <td>45.330002</td>\n",
       "      <td>44.660000</td>\n",
       "      <td>Finance</td>\n",
       "    </tr>\n",
       "    <tr>\n",
       "      <th>VNET</th>\n",
       "      <td>NaN</td>\n",
       "      <td>NaN</td>\n",
       "      <td>NaN</td>\n",
       "      <td>NaN</td>\n",
       "      <td>NaN</td>\n",
       "      <td>NaN</td>\n",
       "      <td>NaN</td>\n",
       "      <td>NaN</td>\n",
       "      <td>NaN</td>\n",
       "      <td>NaN</td>\n",
       "      <td>...</td>\n",
       "      <td>7.320000</td>\n",
       "      <td>7.100000</td>\n",
       "      <td>6.990000</td>\n",
       "      <td>7.050000</td>\n",
       "      <td>NaN</td>\n",
       "      <td>7.150000</td>\n",
       "      <td>7.090000</td>\n",
       "      <td>6.960000</td>\n",
       "      <td>7.010000</td>\n",
       "      <td>Technology</td>\n",
       "    </tr>\n",
       "    <tr>\n",
       "      <th>TWOU</th>\n",
       "      <td>NaN</td>\n",
       "      <td>NaN</td>\n",
       "      <td>NaN</td>\n",
       "      <td>NaN</td>\n",
       "      <td>NaN</td>\n",
       "      <td>NaN</td>\n",
       "      <td>NaN</td>\n",
       "      <td>NaN</td>\n",
       "      <td>NaN</td>\n",
       "      <td>NaN</td>\n",
       "      <td>...</td>\n",
       "      <td>33.049999</td>\n",
       "      <td>32.099998</td>\n",
       "      <td>30.740000</td>\n",
       "      <td>30.809999</td>\n",
       "      <td>NaN</td>\n",
       "      <td>30.549999</td>\n",
       "      <td>30.340000</td>\n",
       "      <td>29.770000</td>\n",
       "      <td>30.150000</td>\n",
       "      <td>Technology</td>\n",
       "    </tr>\n",
       "  </tbody>\n",
       "</table>\n",
       "<p>5 rows × 2821 columns</p>\n",
       "</div>"
      ],
      "text/plain": [
       "      2006-01-02 00:00:00  2006-01-03 00:00:00  2006-01-04 00:00:00  \\\n",
       "PIH                   NaN                  NaN                  NaN   \n",
       "FCCY                  NaN            21.499973            21.499973   \n",
       "SRCE                  NaN            25.830002            25.659998   \n",
       "VNET                  NaN                  NaN                  NaN   \n",
       "TWOU                  NaN                  NaN                  NaN   \n",
       "\n",
       "      2006-01-05 00:00:00  2006-01-06 00:00:00  2006-01-09 00:00:00  \\\n",
       "PIH                   NaN                  NaN                  NaN   \n",
       "FCCY            20.999980            20.519969            20.249976   \n",
       "SRCE            25.820004            25.950002            25.999997   \n",
       "VNET                  NaN                  NaN                  NaN   \n",
       "TWOU                  NaN                  NaN                  NaN   \n",
       "\n",
       "      2006-01-10 00:00:00  2006-01-11 00:00:00  2006-01-12 00:00:00  \\\n",
       "PIH                   NaN                  NaN                  NaN   \n",
       "FCCY            19.999980            20.369968            20.000001   \n",
       "SRCE            25.999997            25.999997            25.940002   \n",
       "VNET                  NaN                  NaN                  NaN   \n",
       "TWOU                  NaN                  NaN                  NaN   \n",
       "\n",
       "      2006-01-13 00:00:00     ...      2016-12-20 00:00:00  \\\n",
       "PIH                   NaN     ...                 7.601000   \n",
       "FCCY            20.779999     ...                17.549999   \n",
       "SRCE            25.989997     ...                45.000000   \n",
       "VNET                  NaN     ...                 7.320000   \n",
       "TWOU                  NaN     ...                33.049999   \n",
       "\n",
       "      2016-12-21 00:00:00  2016-12-22 00:00:00  2016-12-23 00:00:00  \\\n",
       "PIH              7.583000             7.400000             7.650000   \n",
       "FCCY            17.350000            17.280001            17.350000   \n",
       "SRCE            44.439999            44.400002            44.200001   \n",
       "VNET             7.100000             6.990000             7.050000   \n",
       "TWOU            32.099998            30.740000            30.809999   \n",
       "\n",
       "      2016-12-26 00:00:00  2016-12-27 00:00:00  2016-12-28 00:00:00  \\\n",
       "PIH                   NaN             7.400000             7.400000   \n",
       "FCCY                  NaN            18.100000            18.250000   \n",
       "SRCE                  NaN            44.740002            44.700001   \n",
       "VNET                  NaN             7.150000             7.090000   \n",
       "TWOU                  NaN            30.549999            30.340000   \n",
       "\n",
       "      2016-12-29 00:00:00  2016-12-30 00:00:00      Sector  \n",
       "PIH              7.250000             7.800000     Finance  \n",
       "FCCY            18.000000            18.700001     Finance  \n",
       "SRCE            45.330002            44.660000     Finance  \n",
       "VNET             6.960000             7.010000  Technology  \n",
       "TWOU            29.770000            30.150000  Technology  \n",
       "\n",
       "[5 rows x 2821 columns]"
      ]
     },
     "execution_count": 14,
     "metadata": {},
     "output_type": "execute_result"
    }
   ],
   "source": [
    "final.head()"
   ]
  },
  {
   "cell_type": "code",
   "execution_count": 15,
   "metadata": {
    "collapsed": false
   },
   "outputs": [],
   "source": [
    "hc = final[final['Sector'] == 'Health Care']"
   ]
  },
  {
   "cell_type": "code",
   "execution_count": 17,
   "metadata": {
    "collapsed": false
   },
   "outputs": [],
   "source": [
    "# take median within groups for each recorded date:\n",
    "avg_sector = final.groupby('Sector').median().reset_index('Sector')\n",
    "avg_sector = avg_sector.set_index('Sector')\n",
    "avg_sector = avg_sector.dropna(thresh=4, axis = 1) # this drops if a column does not have at least two non NA's"
   ]
  },
  {
   "cell_type": "code",
   "execution_count": 18,
   "metadata": {
    "collapsed": false
   },
   "outputs": [],
   "source": [
    "# Dates as index for plotting\n",
    "# This is basically the original DF (transposed and transposed back)\n",
    "# but the columns are now the Sector averages.\n",
    "avg_T = avg_sector.transpose()"
   ]
  },
  {
   "cell_type": "code",
   "execution_count": 19,
   "metadata": {
    "collapsed": false
   },
   "outputs": [
    {
     "data": {
      "text/html": [
       "<div>\n",
       "<table border=\"1\" class=\"dataframe\">\n",
       "  <thead>\n",
       "    <tr style=\"text-align: right;\">\n",
       "      <th>Sector</th>\n",
       "      <th>Energy</th>\n",
       "      <th>Finance</th>\n",
       "      <th>Health Care</th>\n",
       "      <th>Technology</th>\n",
       "    </tr>\n",
       "  </thead>\n",
       "  <tbody>\n",
       "    <tr>\n",
       "      <th>2006-01-03 00:00:00</th>\n",
       "      <td>13.565</td>\n",
       "      <td>23.250000</td>\n",
       "      <td>7.009993</td>\n",
       "      <td>11.245</td>\n",
       "    </tr>\n",
       "    <tr>\n",
       "      <th>2006-01-04 00:00:00</th>\n",
       "      <td>13.460</td>\n",
       "      <td>23.309999</td>\n",
       "      <td>6.930000</td>\n",
       "      <td>11.655</td>\n",
       "    </tr>\n",
       "    <tr>\n",
       "      <th>2006-01-05 00:00:00</th>\n",
       "      <td>13.750</td>\n",
       "      <td>23.459999</td>\n",
       "      <td>7.004996</td>\n",
       "      <td>11.770</td>\n",
       "    </tr>\n",
       "    <tr>\n",
       "      <th>2006-01-06 00:00:00</th>\n",
       "      <td>13.700</td>\n",
       "      <td>23.400000</td>\n",
       "      <td>7.033586</td>\n",
       "      <td>11.775</td>\n",
       "    </tr>\n",
       "    <tr>\n",
       "      <th>2006-01-09 00:00:00</th>\n",
       "      <td>13.790</td>\n",
       "      <td>23.500000</td>\n",
       "      <td>7.160000</td>\n",
       "      <td>12.050</td>\n",
       "    </tr>\n",
       "  </tbody>\n",
       "</table>\n",
       "</div>"
      ],
      "text/plain": [
       "Sector               Energy    Finance  Health Care  Technology\n",
       "2006-01-03 00:00:00  13.565  23.250000     7.009993      11.245\n",
       "2006-01-04 00:00:00  13.460  23.309999     6.930000      11.655\n",
       "2006-01-05 00:00:00  13.750  23.459999     7.004996      11.770\n",
       "2006-01-06 00:00:00  13.700  23.400000     7.033586      11.775\n",
       "2006-01-09 00:00:00  13.790  23.500000     7.160000      12.050"
      ]
     },
     "execution_count": 19,
     "metadata": {},
     "output_type": "execute_result"
    }
   ],
   "source": [
    "avg_T.head()"
   ]
  },
  {
   "cell_type": "markdown",
   "metadata": {},
   "source": [
    "## Volatility Analysis"
   ]
  },
  {
   "cell_type": "code",
   "execution_count": 20,
   "metadata": {
    "collapsed": false
   },
   "outputs": [
    {
     "data": {
      "text/plain": [
       "Energy Changes        2008-11-26\n",
       "Finance Changes       2008-12-01\n",
       "Health Care Changes   2008-11-19\n",
       "Technology Changes    2008-12-01\n",
       "dtype: datetime64[ns]"
      ]
     },
     "execution_count": 20,
     "metadata": {},
     "output_type": "execute_result"
    }
   ],
   "source": [
    "# A new DF for the difference between each day:\n",
    "delta_df = pd.DataFrame()\n",
    "for sect in avg_T.columns:\n",
    "    delta_df[sect] = (avg_T[sect] - avg_T[sect].shift(1))/avg_T[sect].shift(1) \n",
    "delta_df.columns = map(lambda name: '{} Changes'.format(name),avg_T.columns)\n",
    "\n",
    "# On what day did the stock price spike the most?\n",
    "abs(delta_df).idxmax()"
   ]
  },
  {
   "cell_type": "code",
   "execution_count": 83,
   "metadata": {
    "collapsed": false
   },
   "outputs": [],
   "source": [
    "shade = delta_df['Energy Changes']"
   ]
  },
  {
   "cell_type": "code",
   "execution_count": 21,
   "metadata": {
    "collapsed": false,
    "scrolled": false
   },
   "outputs": [
    {
     "data": {
      "image/png": "[encoded data removed]",
      "text/plain": [
       "<matplotlib.figure.Figure at 0x7ff2cdc0af10>"
      ]
     },
     "metadata": {},
     "output_type": "display_data"
    }
   ],
   "source": [
    "plot_cols = list(avg_T)\n",
    "\n",
    "# 2 axes for 2 subplots\n",
    "fig, axes = plt.subplots(4,1, figsize=(10,7), sharex=True)\n",
    "#delta_df[plot_cols].plot(subplots=True, ax=axes)\n",
    "avg_T[plot_cols].plot(subplots=True, ax=axes)\n",
    "#plt.ylim([-0.20,0.150])\n",
    "plt.show()"
   ]
  },
  {
   "cell_type": "markdown",
   "metadata": {},
   "source": [
    "#### Mega-function with everything related to the NYT API inside (work in progress)"
   ]
  },
  {
   "cell_type": "code",
   "execution_count": 22,
   "metadata": {
    "collapsed": false
   },
   "outputs": [
    {
     "ename": "ImportError",
     "evalue": "No module named nytimesarticle",
     "output_type": "error",
     "traceback": [
      "\u001b[0;31m---------------------------------------------------------------------------\u001b[0m",
      "\u001b[0;31mImportError\u001b[0m                               Traceback (most recent call last)",
      "\u001b[0;32m<ipython-input-22-4a96f4bbc2dc>\u001b[0m in \u001b[0;36m<module>\u001b[0;34m()\u001b[0m\n\u001b[0;32m----> 1\u001b[0;31m \u001b[0;32mfrom\u001b[0m \u001b[0mnytimesarticle\u001b[0m \u001b[0;32mimport\u001b[0m \u001b[0marticleAPI\u001b[0m\u001b[0;34m\u001b[0m\u001b[0m\n\u001b[0m\u001b[1;32m      2\u001b[0m \u001b[0;32mimport\u001b[0m \u001b[0mtime\u001b[0m\u001b[0;34m\u001b[0m\u001b[0m\n\u001b[1;32m      3\u001b[0m \u001b[0mapi\u001b[0m \u001b[0;34m=\u001b[0m \u001b[0marticleAPI\u001b[0m\u001b[0;34m(\u001b[0m\u001b[0;34m'2679a66fe8df4740b754f98e52ad068c'\u001b[0m\u001b[0;34m)\u001b[0m\u001b[0;34m\u001b[0m\u001b[0m\n\u001b[1;32m      4\u001b[0m \u001b[0;32mdef\u001b[0m \u001b[0mnews_articles\u001b[0m\u001b[0;34m(\u001b[0m\u001b[0msector\u001b[0m\u001b[0;34m,\u001b[0m\u001b[0mpages\u001b[0m\u001b[0;34m)\u001b[0m\u001b[0;34m:\u001b[0m\u001b[0;34m\u001b[0m\u001b[0m\n\u001b[1;32m      5\u001b[0m     \u001b[0msector_df\u001b[0m \u001b[0;34m=\u001b[0m \u001b[0mpd\u001b[0m\u001b[0;34m.\u001b[0m\u001b[0mDataFrame\u001b[0m\u001b[0;34m(\u001b[0m\u001b[0;34m)\u001b[0m\u001b[0;34m\u001b[0m\u001b[0m\n",
      "\u001b[0;31mImportError\u001b[0m: No module named nytimesarticle"
     ]
    }
   ],
   "source": [
    "from nytimesarticle import articleAPI\n",
    "import time\n",
    "api = articleAPI('2679a66fe8df4740b754f98e52ad068c')\n",
    "def news_articles(sector,pages):\n",
    "    sector_df = pd.DataFrame()\n",
    "    for i in range(pages):\n",
    "        try:\n",
    "            if sector == 'Health Care':\n",
    "                sector_articles = api.search( \n",
    "                    q = 'Health Care',\n",
    "                    fq = {\n",
    "                        'subject.contains':['Health', 'Care','Insurance','Drug'],\n",
    "                        'type_of_material':'News'},\n",
    "                    begin_date = 20161101,\n",
    "                    end_date = 20170301,\n",
    "                    sort = 'oldest',\n",
    "                    page = i\n",
    "                    )\n",
    "            if sector == 'Technology':\n",
    "                sector_articles = api.search(\n",
    "                    q = 'Tech',\n",
    "                    fq = {\n",
    "                        'section_name':'Technology',\n",
    "                        'subject.contains':'Mergers, Acquisitions and Divestitures',\n",
    "                        'type_of_material':'News'\n",
    "                        },\n",
    "                    begin_date = 20161101,\n",
    "                    end_date = 20170301,\n",
    "                    sort = 'oldest',\n",
    "                    page = i\n",
    "                )\n",
    "            if sector == 'Energy':\n",
    "                sector_articles = api.search( \n",
    "                    q = 'stock',\n",
    "                    fq = {\n",
    "                        'subject.contains':['Energy','Oil','Renewable','Gas'],\n",
    "                        'section_name':'Business Day',\n",
    "                        'type_of_material':'News'\n",
    "                        }, \n",
    "                    begin_date = 20161101,\n",
    "                    end_date = 20170301,\n",
    "                    sort = 'oldest',\n",
    "                    page = i\n",
    "                )\n",
    "            if sector == 'Finance':\n",
    "                sector_articles = api.search( \n",
    "                    q = 'stock',\n",
    "                    fq = {\n",
    "                        'subject.contains':['Bank','Financial','Loan'],\n",
    "                        'section_name.contains':['Business','Finance'],\n",
    "                        'type_of_material':'News'\n",
    "                        }, \n",
    "                    begin_date = 20161101,\n",
    "                    end_date = 20170301,\n",
    "                    sort = 'oldest',\n",
    "                    page = i\n",
    "                )\n",
    "            df_i = sector_articles['response']['docs']\n",
    "            sector_df = sector_df.append(df_i) \n",
    "            time.sleep(1)   # API only allows 5 calls per second. This slows it down!\n",
    "        except KeyError:\n",
    "            break\n",
    "        except IndexError:\n",
    "            break\n",
    "    return sector_df.reset_index()"
   ]
  },
  {
   "cell_type": "code",
   "execution_count": null,
   "metadata": {
    "collapsed": false,
    "scrolled": true
   },
   "outputs": [],
   "source": [
    "# This stuff should be cached?\n",
    "healthcare_news = news_articles('Health Care',30)"
   ]
  },
  {
   "cell_type": "code",
   "execution_count": null,
   "metadata": {
    "collapsed": false,
    "scrolled": true
   },
   "outputs": [],
   "source": [
    "print healthcare_news.shape"
   ]
  },
  {
   "cell_type": "code",
   "execution_count": null,
   "metadata": {
    "collapsed": false,
    "scrolled": false
   },
   "outputs": [],
   "source": [
    "tech_news = news_articles('Technology',10)"
   ]
  },
  {
   "cell_type": "code",
   "execution_count": null,
   "metadata": {
    "collapsed": false,
    "scrolled": false
   },
   "outputs": [],
   "source": [
    "print tech_news.shape"
   ]
  },
  {
   "cell_type": "code",
   "execution_count": null,
   "metadata": {
    "collapsed": true
   },
   "outputs": [],
   "source": [
    "energy_news = news_articles('Energy',30)"
   ]
  },
  {
   "cell_type": "code",
   "execution_count": null,
   "metadata": {
    "collapsed": true
   },
   "outputs": [],
   "source": [
    "finance_news = news_articles('Finance',10)"
   ]
  },
  {
   "cell_type": "code",
   "execution_count": null,
   "metadata": {
    "collapsed": false
   },
   "outputs": [],
   "source": [
    "finance_news.shape"
   ]
  },
  {
   "cell_type": "code",
   "execution_count": null,
   "metadata": {
    "collapsed": false
   },
   "outputs": [],
   "source": [
    "health_labels = [d.get('main') for d in healthcare_news.headline]\n",
    "health_x = list(pd.to_datetime(healthcare_news['pub_date']))\n",
    "tech_labels = [d.get('main') for d in tech_news.headline]\n",
    "tech_x = list(pd.to_datetime(tech_news['pub_date']))\n",
    "energy_labels = [d.get('main') for d in energy_news.headline]\n",
    "energy_x = list(pd.to_datetime(energy_news['pub_date']))\n",
    "finance_labels = [d.get('main') for d in finance_news.headline]\n",
    "finance_x = list(pd.to_datetime(finance_news['pub_date']))\n",
    "\n",
    "headlines = health_labels+tech_labels+energy_labels+finance_labels\n",
    "pub_dates = health_x+tech_x+energy_x+finance_x\n",
    "\n",
    "date_range = [min(pub_dates),max(pub_dates)]\n",
    "sector_level = [1]*len(health_x)+[2]*len(tech_x)+[3]*len(energy_x)+[4]*len(finance_x)"
   ]
  },
  {
   "cell_type": "markdown",
   "metadata": {},
   "source": [
    "### Timeline:"
   ]
  },
  {
   "cell_type": "code",
   "execution_count": null,
   "metadata": {
    "collapsed": false,
    "scrolled": true
   },
   "outputs": [],
   "source": [
    "# how to create an interactive timeline\n",
    "import mpld3\n",
    "from mpld3 import plugins\n",
    "# This is our attempt at creating an interactive \"TIMELINE\"\n",
    "# we cannot figure out how to erase y-axis\n",
    "fig, ax = plt.subplots(figsize=(12,4))\n",
    "scatter = ax.scatter(pub_dates, sector_level,\n",
    "           c=sector_level,marker='>', s=300)\n",
    "fig.autofmt_xdate()\n",
    "ax.set_xlim(date_range)\n",
    "plt.yticks(range(6))\n",
    "tooltip = plugins.PointLabelTooltip(scatter, headlines)\n",
    "plugins.connect(fig, tooltip)\n",
    "mpld3.display()"
   ]
  },
  {
   "cell_type": "markdown",
   "metadata": {
    "collapsed": true
   },
   "source": [
    "# Time Series Analyis"
   ]
  },
  {
   "cell_type": "code",
   "execution_count": null,
   "metadata": {
    "collapsed": false
   },
   "outputs": [],
   "source": [
    "ts_eng = delta_df['Energy Changes']\n",
    "# Why do we get an NA for Nov 1 2016?\n",
    "# Need to change following date range\n",
    "ts_eng['2016-11-02':'2017-03-01']"
   ]
  },
  {
   "cell_type": "markdown",
   "metadata": {},
   "source": [
    "## Check Stationarity\n",
    "\n",
    "Dickey-Fuller Test: tests the null hypothesis of whether a u nit root is present in an autoregressive model.  "
   ]
  },
  {
   "cell_type": "code",
   "execution_count": null,
   "metadata": {
    "collapsed": true
   },
   "outputs": [],
   "source": [
    "from statsmodels.tsa.stattools import adfuller\n",
    "def test_stationarity(timeseries):\n",
    "    \n",
    "    #Determing rolling statistics\n",
    "    rolmean = pd.rolling_mean(timeseries, window=12)\n",
    "    rolstd = pd.rolling_std(timeseries, window=12)\n",
    "\n",
    "    #Plot rolling statistics:\n",
    "    orig = plt.plot(timeseries, color='blue',label='Original')\n",
    "    mean = plt.plot(rolmean, color='red', label='Rolling Mean')\n",
    "    std = plt.plot(rolstd, color='black', label = 'Rolling Std')\n",
    "    plt.legend(loc='best')\n",
    "    plt.title('Rolling Mean & Standard Deviation')\n",
    "    plt.show(block=False)\n",
    "    \n",
    "    #Perform Dickey-Fuller test:\n",
    "    print 'Results of Dickey-Fuller Test:'\n",
    "    dftest = adfuller(timeseries, autolag='AIC')\n",
    "    dfoutput = pd.Series(dftest[0:4], index=['Test Statistic','p-value','#Lags Used','Number of Observations Used'])\n",
    "    for key,value in dftest[4].items():\n",
    "        dfoutput['Critical Value (%s)'%key] = value\n",
    "    print dfoutput\n"
   ]
  },
  {
   "cell_type": "code",
   "execution_count": null,
   "metadata": {
    "collapsed": false
   },
   "outputs": [],
   "source": [
    "test_stationarity(ts_eng)"
   ]
  },
  {
   "cell_type": "code",
   "execution_count": null,
   "metadata": {
    "collapsed": true
   },
   "outputs": [],
   "source": []
  }
 ],
 "metadata": {
  "anaconda-cloud": {},
  "kernelspec": {
   "display_name": "Python [default]",
   "language": "python",
   "name": "python2"
  },
  "language_info": {
   "codemirror_mode": {
    "name": "ipython",
    "version": 2
   },
   "file_extension": ".py",
   "mimetype": "text/x-python",
   "name": "python",
   "nbconvert_exporter": "python",
   "pygments_lexer": "ipython2",
   "version": "2.7.12"
  }
 },
 "nbformat": 4,
 "nbformat_minor": 1
}
