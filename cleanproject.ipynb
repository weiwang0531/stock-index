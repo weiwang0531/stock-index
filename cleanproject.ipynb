{
 "cells": [
  {
   "cell_type": "markdown",
   "metadata": {},
   "source": [
    "# NASDAQ Stock Indices"
   ]
  },
  {
   "cell_type": "markdown",
   "metadata": {},
   "source": [
    "#### March 2017\n",
    "<u>Statistics 141B:</u> Data and Web Technologies<br>\n",
    "<u>Contributors:</u> Jeremy Weidner, Weizhou Wang, Audrey Chu, and Yuji Mori"
   ]
  },
  {
   "cell_type": "markdown",
   "metadata": {},
   "source": [
    "### I. Abstract\n",
    "\n",
    "To study NASDAQ stock prices for the technology, finance, health care, and energy industry sectors across time.  With the application of python and utilization of the Yahoo! Finance API, Yahoo Query Language (YQL), and New York Times API, we will gather and clean out a dataset for a time period of ten years for approximately 1770 companies.  Our data will incorporate the closing prices for each day and then average these prices for each respective sector.  In analyzing the stock prices, we will use interactive data visualization as well as attempt to create a time series ARIMA (Autoregressive Integrated Moving Average) model.\n",
    "\n",
    "### II. Questions of Interest\n",
    "- How do stock prices differ among industry sectors?\n",
    "- Can we explain unusual trends in past prices by relating them to major historical events?\n",
    "- Which month for which sector has the least volatility?"
   ]
  },
  {
   "cell_type": "code",
   "execution_count": 1,
   "metadata": {
    "collapsed": false
   },
   "outputs": [],
   "source": [
    "import sys\n",
    "import csv\n",
    "import json\n",
    "import requests\n",
    "import requests_cache\n",
    "import numpy as np\n",
    "import pandas as pd\n",
    "#from yahoo_finance import Share\n",
    "from pprint import pprint \n",
    "from datetime import datetime\n",
    "import matplotlib.pyplot as plt\n",
    "import math\n",
    "\n",
    "import matplotlib as mpl\n",
    "%matplotlib inline\n",
    "\n",
    "import seaborn as sns\n",
    "sns.set_style('white', {\"xtick.major.size\": 2, \"ytick.major.size\": 2})\n",
    "flatui = [\"#9b59b6\", \"#3498db\", \"#95a5a6\", \"#e74c3c\", \"#34495e\", \"#2ecc71\",\"#f4cae4\"]\n",
    "sns.set_palette(sns.color_palette(flatui,7))\n",
    "\n",
    "import missingno as msno\n",
    "\n",
    "#this is for time series\n",
    "from  __future__ import print_function\n",
    "from scipy import stats\n",
    "import statsmodels.api as sm\n",
    "from statsmodels.graphics.api import qqplot\n",
    "\n",
    "#this is for plotting the prices\n",
    "import plotly\n",
    "plotly.tools.set_credentials_file(username=\"audchu\",api_key=\"fPSZjEJ6wqYjzolZ8wNI\")\n",
    "import plotly.plotly as py\n",
    "import plotly.graph_objs as go\n",
    "from datetime import datetime\n",
    "from pandas_datareader import data,wb\n",
    "\n",
    "#this is for streaming plot\n",
    "from plotly.grid_objs import Grid,Column\n",
    "import time"
   ]
  },
  {
   "cell_type": "code",
   "execution_count": 2,
   "metadata": {
    "collapsed": true
   },
   "outputs": [],
   "source": [
    "requests_cache.install_cache('cache')"
   ]
  },
  {
   "cell_type": "code",
   "execution_count": 3,
   "metadata": {
    "collapsed": true
   },
   "outputs": [],
   "source": [
    "# Yahoo! YQL API\n",
    "PUBLIC_API_URL = 'https://query.yahooapis.com/v1/public/yql'\n",
    "OAUTH_API_URL = 'https://query.yahooapis.com/v1/yql'\n",
    "DATATABLES_URL = 'store://datatables.org/alltableswithkeys'\n",
    "\n",
    "def myreq(ticker, start, end):\n",
    "    '''\n",
    "    input ticker & dates as strings form 'YYYY-MM-DD'\n",
    "    '''\n",
    "    params = {'format':'json',\n",
    "             'env':DATATABLES_URL}\n",
    "    query = 'select * from yahoo.finance.historicaldata where symbol = \"{}\" and startDate = \"{}\" and endDate = \"{}\"'.format(ticker,start, end)\n",
    "    params.update({'q':query})\n",
    "    req = requests.get(PUBLIC_API_URL, params=params)\n",
    "    req.raise_for_status()\n",
    "    req = req.json()\n",
    "    if req['query']['count'] > 0:\n",
    "        result = req['query']['results']['quote']\n",
    "        return result\n",
    "    else:\n",
    "        pass"
   ]
  },
  {
   "cell_type": "code",
   "execution_count": 4,
   "metadata": {
    "collapsed": true
   },
   "outputs": [],
   "source": [
    "def price2(ticker):\n",
    "    \"\"\"\n",
    "    Return closing prices for stocks from years 2006 to 2016.\n",
    "    \"\"\"\n",
    "    \n",
    "    date=[]\n",
    "    price=[]\n",
    "    report = []\n",
    "    \n",
    "    years = [2006,2007,2008,2009,2010,2011,2012,2013,2014,2015,2016]\n",
    "    for x in range(len(years)):\n",
    "        c = myreq(ticker,'{}-01-01'.format(years[x]),'{}-12-31'.format(years[x]))\n",
    "        try:\n",
    "        \n",
    "            for i in range(0,len(c)):\n",
    "                date.append(pd.to_datetime(c[i][\"Date\"]))\n",
    "                price.append(float(c[i][u'Close']))\n",
    "                datef = pd.DataFrame(date)\n",
    "                pricef = pd.DataFrame(price)\n",
    "                table1 = pd.concat([datef,pricef],axis = 1)\n",
    "                table1.columns = ['Date', ticker]\n",
    "                table1 = table1.set_index(\"Date\")\n",
    "            \n",
    "        except Exception:\n",
    "            table1 = pd.DataFrame()\n",
    "    \n",
    "    return table1"
   ]
  },
  {
   "cell_type": "code",
   "execution_count": 5,
   "metadata": {
    "collapsed": false
   },
   "outputs": [],
   "source": [
    "csv = pd.read_csv('./companylist.csv')\n",
    "# We want to keep \"Finance, Health Care, Technology, Energy\"\n",
    "newcsv = csv[csv[\"Sector\"].isin([\"Finance\", \"Energy\",\"Health Care\",\"Technology\"])].reset_index()\n",
    "del newcsv[\"index\"]"
   ]
  },
  {
   "cell_type": "code",
   "execution_count": 6,
   "metadata": {
    "collapsed": false
   },
   "outputs": [],
   "source": [
    "whole_list = newcsv['Symbol']"
   ]
  },
  {
   "cell_type": "code",
   "execution_count": 9,
   "metadata": {
    "collapsed": false
   },
   "outputs": [
    {
     "data": {
      "text/plain": [
       "\"\\nfor l in whole_list:\\n    get = price2(l)\\n    try:\\n        df = pd.concat([df,get],axis = 1)    # concat. by column \\n    except NameError:\\n        df = pd.DataFrame(get)    # initialize automatically\\n# SAVE THE RESULT LOCALLY:\\ndf.to_pickle('mydf')\\n\""
      ]
     },
     "execution_count": 9,
     "metadata": {},
     "output_type": "execute_result"
    }
   ],
   "source": [
    "'''\n",
    "for l in whole_list:\n",
    "    get = price2(l)\n",
    "    try:\n",
    "        df = pd.concat([df,get],axis = 1)    # concat. by column \n",
    "    except NameError:\n",
    "        df = pd.DataFrame(get)    # initialize automatically\n",
    "# SAVE THE RESULT LOCALLY:\n",
    "df.to_pickle('mydf')\n",
    "'''"
   ]
  },
  {
   "cell_type": "code",
   "execution_count": 10,
   "metadata": {
    "collapsed": false
   },
   "outputs": [],
   "source": [
    "df = pd.read_pickle('mydf')"
   ]
  },
  {
   "cell_type": "code",
   "execution_count": 11,
   "metadata": {
    "collapsed": false
   },
   "outputs": [],
   "source": [
    "# This allows us to control size of a dataframe displayed to examine our data in depth\n",
    "pd.options.display.max_columns = 20\n",
    "pd.options.display.max_rows = 30"
   ]
  },
  {
   "cell_type": "code",
   "execution_count": 12,
   "metadata": {
    "collapsed": false,
    "scrolled": false
   },
   "outputs": [
    {
     "data": {
      "text/html": [
       "<div>\n",
       "<table border=\"1\" class=\"dataframe\">\n",
       "  <thead>\n",
       "    <tr style=\"text-align: right;\">\n",
       "      <th></th>\n",
       "      <th>PIH</th>\n",
       "      <th>FCCY</th>\n",
       "      <th>SRCE</th>\n",
       "      <th>VNET</th>\n",
       "      <th>TWOU</th>\n",
       "      <th>JOBS</th>\n",
       "      <th>ABEO</th>\n",
       "      <th>ABIL</th>\n",
       "      <th>ABMD</th>\n",
       "      <th>AXAS</th>\n",
       "      <th>...</th>\n",
       "      <th>ZLTQ</th>\n",
       "      <th>ZN</th>\n",
       "      <th>ZION</th>\n",
       "      <th>ZIONW</th>\n",
       "      <th>ZIOP</th>\n",
       "      <th>ZIXI</th>\n",
       "      <th>ZGNX</th>\n",
       "      <th>ZSAN</th>\n",
       "      <th>ZYNE</th>\n",
       "      <th>ZNGA</th>\n",
       "    </tr>\n",
       "    <tr>\n",
       "      <th>Date</th>\n",
       "      <th></th>\n",
       "      <th></th>\n",
       "      <th></th>\n",
       "      <th></th>\n",
       "      <th></th>\n",
       "      <th></th>\n",
       "      <th></th>\n",
       "      <th></th>\n",
       "      <th></th>\n",
       "      <th></th>\n",
       "      <th></th>\n",
       "      <th></th>\n",
       "      <th></th>\n",
       "      <th></th>\n",
       "      <th></th>\n",
       "      <th></th>\n",
       "      <th></th>\n",
       "      <th></th>\n",
       "      <th></th>\n",
       "      <th></th>\n",
       "      <th></th>\n",
       "    </tr>\n",
       "  </thead>\n",
       "  <tbody>\n",
       "    <tr>\n",
       "      <th>2006-01-02</th>\n",
       "      <td>NaN</td>\n",
       "      <td>NaN</td>\n",
       "      <td>NaN</td>\n",
       "      <td>NaN</td>\n",
       "      <td>NaN</td>\n",
       "      <td>NaN</td>\n",
       "      <td>NaN</td>\n",
       "      <td>NaN</td>\n",
       "      <td>NaN</td>\n",
       "      <td>NaN</td>\n",
       "      <td>...</td>\n",
       "      <td>NaN</td>\n",
       "      <td>NaN</td>\n",
       "      <td>NaN</td>\n",
       "      <td>NaN</td>\n",
       "      <td>NaN</td>\n",
       "      <td>NaN</td>\n",
       "      <td>NaN</td>\n",
       "      <td>NaN</td>\n",
       "      <td>NaN</td>\n",
       "      <td>NaN</td>\n",
       "    </tr>\n",
       "    <tr>\n",
       "      <th>2006-01-03</th>\n",
       "      <td>NaN</td>\n",
       "      <td>21.499973</td>\n",
       "      <td>25.830002</td>\n",
       "      <td>NaN</td>\n",
       "      <td>NaN</td>\n",
       "      <td>14.95</td>\n",
       "      <td>0.51</td>\n",
       "      <td>NaN</td>\n",
       "      <td>9.35</td>\n",
       "      <td>5.55</td>\n",
       "      <td>...</td>\n",
       "      <td>NaN</td>\n",
       "      <td>NaN</td>\n",
       "      <td>76.480003</td>\n",
       "      <td>NaN</td>\n",
       "      <td>3.60</td>\n",
       "      <td>1.93</td>\n",
       "      <td>NaN</td>\n",
       "      <td>NaN</td>\n",
       "      <td>NaN</td>\n",
       "      <td>NaN</td>\n",
       "    </tr>\n",
       "    <tr>\n",
       "      <th>2006-01-04</th>\n",
       "      <td>NaN</td>\n",
       "      <td>21.499973</td>\n",
       "      <td>25.659998</td>\n",
       "      <td>NaN</td>\n",
       "      <td>NaN</td>\n",
       "      <td>14.79</td>\n",
       "      <td>0.47</td>\n",
       "      <td>NaN</td>\n",
       "      <td>9.62</td>\n",
       "      <td>5.55</td>\n",
       "      <td>...</td>\n",
       "      <td>NaN</td>\n",
       "      <td>NaN</td>\n",
       "      <td>77.019997</td>\n",
       "      <td>NaN</td>\n",
       "      <td>4.00</td>\n",
       "      <td>2.04</td>\n",
       "      <td>NaN</td>\n",
       "      <td>NaN</td>\n",
       "      <td>NaN</td>\n",
       "      <td>NaN</td>\n",
       "    </tr>\n",
       "    <tr>\n",
       "      <th>2006-01-05</th>\n",
       "      <td>NaN</td>\n",
       "      <td>20.999980</td>\n",
       "      <td>25.820004</td>\n",
       "      <td>NaN</td>\n",
       "      <td>NaN</td>\n",
       "      <td>16.15</td>\n",
       "      <td>0.46</td>\n",
       "      <td>NaN</td>\n",
       "      <td>9.55</td>\n",
       "      <td>5.81</td>\n",
       "      <td>...</td>\n",
       "      <td>NaN</td>\n",
       "      <td>NaN</td>\n",
       "      <td>77.720001</td>\n",
       "      <td>NaN</td>\n",
       "      <td>4.00</td>\n",
       "      <td>2.20</td>\n",
       "      <td>NaN</td>\n",
       "      <td>NaN</td>\n",
       "      <td>NaN</td>\n",
       "      <td>NaN</td>\n",
       "    </tr>\n",
       "    <tr>\n",
       "      <th>2006-01-06</th>\n",
       "      <td>NaN</td>\n",
       "      <td>20.519969</td>\n",
       "      <td>25.950002</td>\n",
       "      <td>NaN</td>\n",
       "      <td>NaN</td>\n",
       "      <td>17.08</td>\n",
       "      <td>0.45</td>\n",
       "      <td>NaN</td>\n",
       "      <td>9.75</td>\n",
       "      <td>5.95</td>\n",
       "      <td>...</td>\n",
       "      <td>NaN</td>\n",
       "      <td>NaN</td>\n",
       "      <td>78.529999</td>\n",
       "      <td>NaN</td>\n",
       "      <td>4.25</td>\n",
       "      <td>2.09</td>\n",
       "      <td>NaN</td>\n",
       "      <td>NaN</td>\n",
       "      <td>NaN</td>\n",
       "      <td>NaN</td>\n",
       "    </tr>\n",
       "  </tbody>\n",
       "</table>\n",
       "<p>5 rows × 1675 columns</p>\n",
       "</div>"
      ],
      "text/plain": [
       "            PIH       FCCY       SRCE  VNET  TWOU   JOBS  ABEO  ABIL  ABMD  \\\n",
       "Date                                                                         \n",
       "2006-01-02  NaN        NaN        NaN   NaN   NaN    NaN   NaN   NaN   NaN   \n",
       "2006-01-03  NaN  21.499973  25.830002   NaN   NaN  14.95  0.51   NaN  9.35   \n",
       "2006-01-04  NaN  21.499973  25.659998   NaN   NaN  14.79  0.47   NaN  9.62   \n",
       "2006-01-05  NaN  20.999980  25.820004   NaN   NaN  16.15  0.46   NaN  9.55   \n",
       "2006-01-06  NaN  20.519969  25.950002   NaN   NaN  17.08  0.45   NaN  9.75   \n",
       "\n",
       "            AXAS  ...   ZLTQ  ZN       ZION  ZIONW  ZIOP  ZIXI  ZGNX  ZSAN  \\\n",
       "Date              ...                                                        \n",
       "2006-01-02   NaN  ...    NaN NaN        NaN    NaN   NaN   NaN   NaN   NaN   \n",
       "2006-01-03  5.55  ...    NaN NaN  76.480003    NaN  3.60  1.93   NaN   NaN   \n",
       "2006-01-04  5.55  ...    NaN NaN  77.019997    NaN  4.00  2.04   NaN   NaN   \n",
       "2006-01-05  5.81  ...    NaN NaN  77.720001    NaN  4.00  2.20   NaN   NaN   \n",
       "2006-01-06  5.95  ...    NaN NaN  78.529999    NaN  4.25  2.09   NaN   NaN   \n",
       "\n",
       "            ZYNE  ZNGA  \n",
       "Date                    \n",
       "2006-01-02   NaN   NaN  \n",
       "2006-01-03   NaN   NaN  \n",
       "2006-01-04   NaN   NaN  \n",
       "2006-01-05   NaN   NaN  \n",
       "2006-01-06   NaN   NaN  \n",
       "\n",
       "[5 rows x 1675 columns]"
      ]
     },
     "execution_count": 12,
     "metadata": {},
     "output_type": "execute_result"
    }
   ],
   "source": [
    "df.head()"
   ]
  },
  {
   "cell_type": "code",
   "execution_count": 13,
   "metadata": {
    "collapsed": false
   },
   "outputs": [],
   "source": [
    "final = newcsv.reset_index()\n",
    "df_long = df.transpose()\n",
    "sector  = final[['Symbol','Sector']]\n",
    "sector = sector.set_index('Symbol')"
   ]
  },
  {
   "cell_type": "code",
   "execution_count": 14,
   "metadata": {
    "collapsed": false
   },
   "outputs": [],
   "source": [
    "final = df_long.join(sector)"
   ]
  },
  {
   "cell_type": "code",
   "execution_count": 15,
   "metadata": {
    "collapsed": false
   },
   "outputs": [
    {
     "data": {
      "text/html": [
       "<div>\n",
       "<table border=\"1\" class=\"dataframe\">\n",
       "  <thead>\n",
       "    <tr style=\"text-align: right;\">\n",
       "      <th></th>\n",
       "      <th>2006-01-02 00:00:00</th>\n",
       "      <th>2006-01-03 00:00:00</th>\n",
       "      <th>2006-01-04 00:00:00</th>\n",
       "      <th>2006-01-05 00:00:00</th>\n",
       "      <th>2006-01-06 00:00:00</th>\n",
       "      <th>2006-01-09 00:00:00</th>\n",
       "      <th>2006-01-10 00:00:00</th>\n",
       "      <th>2006-01-11 00:00:00</th>\n",
       "      <th>2006-01-12 00:00:00</th>\n",
       "      <th>2006-01-13 00:00:00</th>\n",
       "      <th>...</th>\n",
       "      <th>2016-12-20 00:00:00</th>\n",
       "      <th>2016-12-21 00:00:00</th>\n",
       "      <th>2016-12-22 00:00:00</th>\n",
       "      <th>2016-12-23 00:00:00</th>\n",
       "      <th>2016-12-26 00:00:00</th>\n",
       "      <th>2016-12-27 00:00:00</th>\n",
       "      <th>2016-12-28 00:00:00</th>\n",
       "      <th>2016-12-29 00:00:00</th>\n",
       "      <th>2016-12-30 00:00:00</th>\n",
       "      <th>Sector</th>\n",
       "    </tr>\n",
       "  </thead>\n",
       "  <tbody>\n",
       "    <tr>\n",
       "      <th>PIH</th>\n",
       "      <td>NaN</td>\n",
       "      <td>NaN</td>\n",
       "      <td>NaN</td>\n",
       "      <td>NaN</td>\n",
       "      <td>NaN</td>\n",
       "      <td>NaN</td>\n",
       "      <td>NaN</td>\n",
       "      <td>NaN</td>\n",
       "      <td>NaN</td>\n",
       "      <td>NaN</td>\n",
       "      <td>...</td>\n",
       "      <td>7.601000</td>\n",
       "      <td>7.583000</td>\n",
       "      <td>7.400000</td>\n",
       "      <td>7.650000</td>\n",
       "      <td>NaN</td>\n",
       "      <td>7.400000</td>\n",
       "      <td>7.400000</td>\n",
       "      <td>7.250000</td>\n",
       "      <td>7.800000</td>\n",
       "      <td>Finance</td>\n",
       "    </tr>\n",
       "    <tr>\n",
       "      <th>FCCY</th>\n",
       "      <td>NaN</td>\n",
       "      <td>21.499973</td>\n",
       "      <td>21.499973</td>\n",
       "      <td>20.999980</td>\n",
       "      <td>20.519969</td>\n",
       "      <td>20.249976</td>\n",
       "      <td>19.999980</td>\n",
       "      <td>20.369968</td>\n",
       "      <td>20.000001</td>\n",
       "      <td>20.779999</td>\n",
       "      <td>...</td>\n",
       "      <td>17.549999</td>\n",
       "      <td>17.350000</td>\n",
       "      <td>17.280001</td>\n",
       "      <td>17.350000</td>\n",
       "      <td>NaN</td>\n",
       "      <td>18.100000</td>\n",
       "      <td>18.250000</td>\n",
       "      <td>18.000000</td>\n",
       "      <td>18.700001</td>\n",
       "      <td>Finance</td>\n",
       "    </tr>\n",
       "    <tr>\n",
       "      <th>SRCE</th>\n",
       "      <td>NaN</td>\n",
       "      <td>25.830002</td>\n",
       "      <td>25.659998</td>\n",
       "      <td>25.820004</td>\n",
       "      <td>25.950002</td>\n",
       "      <td>25.999997</td>\n",
       "      <td>25.999997</td>\n",
       "      <td>25.999997</td>\n",
       "      <td>25.940002</td>\n",
       "      <td>25.989997</td>\n",
       "      <td>...</td>\n",
       "      <td>45.000000</td>\n",
       "      <td>44.439999</td>\n",
       "      <td>44.400002</td>\n",
       "      <td>44.200001</td>\n",
       "      <td>NaN</td>\n",
       "      <td>44.740002</td>\n",
       "      <td>44.700001</td>\n",
       "      <td>45.330002</td>\n",
       "      <td>44.660000</td>\n",
       "      <td>Finance</td>\n",
       "    </tr>\n",
       "    <tr>\n",
       "      <th>VNET</th>\n",
       "      <td>NaN</td>\n",
       "      <td>NaN</td>\n",
       "      <td>NaN</td>\n",
       "      <td>NaN</td>\n",
       "      <td>NaN</td>\n",
       "      <td>NaN</td>\n",
       "      <td>NaN</td>\n",
       "      <td>NaN</td>\n",
       "      <td>NaN</td>\n",
       "      <td>NaN</td>\n",
       "      <td>...</td>\n",
       "      <td>7.320000</td>\n",
       "      <td>7.100000</td>\n",
       "      <td>6.990000</td>\n",
       "      <td>7.050000</td>\n",
       "      <td>NaN</td>\n",
       "      <td>7.150000</td>\n",
       "      <td>7.090000</td>\n",
       "      <td>6.960000</td>\n",
       "      <td>7.010000</td>\n",
       "      <td>Technology</td>\n",
       "    </tr>\n",
       "    <tr>\n",
       "      <th>TWOU</th>\n",
       "      <td>NaN</td>\n",
       "      <td>NaN</td>\n",
       "      <td>NaN</td>\n",
       "      <td>NaN</td>\n",
       "      <td>NaN</td>\n",
       "      <td>NaN</td>\n",
       "      <td>NaN</td>\n",
       "      <td>NaN</td>\n",
       "      <td>NaN</td>\n",
       "      <td>NaN</td>\n",
       "      <td>...</td>\n",
       "      <td>33.049999</td>\n",
       "      <td>32.099998</td>\n",
       "      <td>30.740000</td>\n",
       "      <td>30.809999</td>\n",
       "      <td>NaN</td>\n",
       "      <td>30.549999</td>\n",
       "      <td>30.340000</td>\n",
       "      <td>29.770000</td>\n",
       "      <td>30.150000</td>\n",
       "      <td>Technology</td>\n",
       "    </tr>\n",
       "  </tbody>\n",
       "</table>\n",
       "<p>5 rows × 2821 columns</p>\n",
       "</div>"
      ],
      "text/plain": [
       "      2006-01-02 00:00:00  2006-01-03 00:00:00  2006-01-04 00:00:00  \\\n",
       "PIH                   NaN                  NaN                  NaN   \n",
       "FCCY                  NaN            21.499973            21.499973   \n",
       "SRCE                  NaN            25.830002            25.659998   \n",
       "VNET                  NaN                  NaN                  NaN   \n",
       "TWOU                  NaN                  NaN                  NaN   \n",
       "\n",
       "      2006-01-05 00:00:00  2006-01-06 00:00:00  2006-01-09 00:00:00  \\\n",
       "PIH                   NaN                  NaN                  NaN   \n",
       "FCCY            20.999980            20.519969            20.249976   \n",
       "SRCE            25.820004            25.950002            25.999997   \n",
       "VNET                  NaN                  NaN                  NaN   \n",
       "TWOU                  NaN                  NaN                  NaN   \n",
       "\n",
       "      2006-01-10 00:00:00  2006-01-11 00:00:00  2006-01-12 00:00:00  \\\n",
       "PIH                   NaN                  NaN                  NaN   \n",
       "FCCY            19.999980            20.369968            20.000001   \n",
       "SRCE            25.999997            25.999997            25.940002   \n",
       "VNET                  NaN                  NaN                  NaN   \n",
       "TWOU                  NaN                  NaN                  NaN   \n",
       "\n",
       "      2006-01-13 00:00:00     ...      2016-12-20 00:00:00  \\\n",
       "PIH                   NaN     ...                 7.601000   \n",
       "FCCY            20.779999     ...                17.549999   \n",
       "SRCE            25.989997     ...                45.000000   \n",
       "VNET                  NaN     ...                 7.320000   \n",
       "TWOU                  NaN     ...                33.049999   \n",
       "\n",
       "      2016-12-21 00:00:00  2016-12-22 00:00:00  2016-12-23 00:00:00  \\\n",
       "PIH              7.583000             7.400000             7.650000   \n",
       "FCCY            17.350000            17.280001            17.350000   \n",
       "SRCE            44.439999            44.400002            44.200001   \n",
       "VNET             7.100000             6.990000             7.050000   \n",
       "TWOU            32.099998            30.740000            30.809999   \n",
       "\n",
       "      2016-12-26 00:00:00  2016-12-27 00:00:00  2016-12-28 00:00:00  \\\n",
       "PIH                   NaN             7.400000             7.400000   \n",
       "FCCY                  NaN            18.100000            18.250000   \n",
       "SRCE                  NaN            44.740002            44.700001   \n",
       "VNET                  NaN             7.150000             7.090000   \n",
       "TWOU                  NaN            30.549999            30.340000   \n",
       "\n",
       "      2016-12-29 00:00:00  2016-12-30 00:00:00      Sector  \n",
       "PIH              7.250000             7.800000     Finance  \n",
       "FCCY            18.000000            18.700001     Finance  \n",
       "SRCE            45.330002            44.660000     Finance  \n",
       "VNET             6.960000             7.010000  Technology  \n",
       "TWOU            29.770000            30.150000  Technology  \n",
       "\n",
       "[5 rows x 2821 columns]"
      ]
     },
     "execution_count": 15,
     "metadata": {},
     "output_type": "execute_result"
    }
   ],
   "source": [
    "final.head()"
   ]
  },
  {
   "cell_type": "code",
   "execution_count": 16,
   "metadata": {
    "collapsed": false
   },
   "outputs": [],
   "source": [
    "hc = final[final['Sector'] == 'Health Care']"
   ]
  },
  {
   "cell_type": "code",
   "execution_count": 17,
   "metadata": {
    "collapsed": false
   },
   "outputs": [],
   "source": [
    "# take median within groups for each recorded date:\n",
    "avg_sector = final.groupby('Sector').median().reset_index('Sector')\n",
    "avg_sector = avg_sector.set_index('Sector')\n",
    "avg_sector = avg_sector.dropna(thresh=4, axis = 1) # this drops if a column does not have at least two non NA's"
   ]
  },
  {
   "cell_type": "code",
   "execution_count": 99,
   "metadata": {
    "collapsed": false
   },
   "outputs": [],
   "source": [
    "# Dates as index for plotting\n",
    "# This is basically the original DF (transposed and transposed back)\n",
    "# but the columns are now the Sector averages.\n",
    "avg_T = avg_sector.transpose()"
   ]
  },
  {
   "cell_type": "code",
   "execution_count": 100,
   "metadata": {
    "collapsed": false
   },
   "outputs": [
    {
     "data": {
      "text/html": [
       "<div>\n",
       "<table border=\"1\" class=\"dataframe\">\n",
       "  <thead>\n",
       "    <tr style=\"text-align: right;\">\n",
       "      <th>Sector</th>\n",
       "      <th>Energy</th>\n",
       "      <th>Finance</th>\n",
       "      <th>Health Care</th>\n",
       "      <th>Technology</th>\n",
       "    </tr>\n",
       "  </thead>\n",
       "  <tbody>\n",
       "    <tr>\n",
       "      <th>2006-01-03 00:00:00</th>\n",
       "      <td>13.565</td>\n",
       "      <td>23.250000</td>\n",
       "      <td>6.945685</td>\n",
       "      <td>11.245</td>\n",
       "    </tr>\n",
       "    <tr>\n",
       "      <th>2006-01-04 00:00:00</th>\n",
       "      <td>13.460</td>\n",
       "      <td>23.309999</td>\n",
       "      <td>6.925000</td>\n",
       "      <td>11.655</td>\n",
       "    </tr>\n",
       "    <tr>\n",
       "      <th>2006-01-05 00:00:00</th>\n",
       "      <td>13.750</td>\n",
       "      <td>23.459999</td>\n",
       "      <td>6.990000</td>\n",
       "      <td>11.770</td>\n",
       "    </tr>\n",
       "    <tr>\n",
       "      <th>2006-01-06 00:00:00</th>\n",
       "      <td>13.700</td>\n",
       "      <td>23.400000</td>\n",
       "      <td>7.019992</td>\n",
       "      <td>11.775</td>\n",
       "    </tr>\n",
       "    <tr>\n",
       "      <th>2006-01-09 00:00:00</th>\n",
       "      <td>13.790</td>\n",
       "      <td>23.500000</td>\n",
       "      <td>7.100000</td>\n",
       "      <td>12.050</td>\n",
       "    </tr>\n",
       "  </tbody>\n",
       "</table>\n",
       "</div>"
      ],
      "text/plain": [
       "Sector               Energy    Finance  Health Care  Technology\n",
       "2006-01-03 00:00:00  13.565  23.250000     6.945685      11.245\n",
       "2006-01-04 00:00:00  13.460  23.309999     6.925000      11.655\n",
       "2006-01-05 00:00:00  13.750  23.459999     6.990000      11.770\n",
       "2006-01-06 00:00:00  13.700  23.400000     7.019992      11.775\n",
       "2006-01-09 00:00:00  13.790  23.500000     7.100000      12.050"
      ]
     },
     "execution_count": 100,
     "metadata": {},
     "output_type": "execute_result"
    }
   ],
   "source": [
    "avg_T.head()"
   ]
  },
  {
   "cell_type": "code",
   "execution_count": 20,
   "metadata": {
    "collapsed": true
   },
   "outputs": [],
   "source": [
    "def ts_slider(sector,sec_name):\n",
    "    trace = go.Scatter(x=avg_T.index,y=sector)\n",
    "    data = [trace]\n",
    "    layout = dict(\n",
    "        title=sec_name + ' Sector Closing Prices: Time series with Range Slider',\n",
    "        xaxis=dict(\n",
    "            rangeselector=dict(\n",
    "                buttons=list([\n",
    "                    dict(count=1,\n",
    "                         label='1m',\n",
    "                         step='month',\n",
    "                         stepmode='backward'),\n",
    "                    dict(count=6,\n",
    "                         label='6m',\n",
    "                         step='month',\n",
    "                         stepmode='backward'),\n",
    "                    dict(count=1,\n",
    "                        label='YTD',\n",
    "                        step='year',\n",
    "                        stepmode='todate'),\n",
    "                    dict(count=1,\n",
    "                        label='1y',\n",
    "                        step='year',\n",
    "                        stepmode='backward'),\n",
    "                    dict(step='all')\n",
    "                ])\n",
    "            ),\n",
    "            rangeslider=dict(),\n",
    "            type='date'\n",
    "        )\n",
    "    )\n",
    "\n",
    "    fig = dict(data=data, layout=layout)\n",
    "    return py.iplot(fig)"
   ]
  },
  {
   "cell_type": "code",
   "execution_count": 21,
   "metadata": {
    "collapsed": false
   },
   "outputs": [
    {
     "data": {
      "text/html": [
       "<iframe id=\"igraph\" scrolling=\"no\" style=\"border:none;\" seamless=\"seamless\" src=\"https://plot.ly/~audchu/46.embed\" height=\"525px\" width=\"100%\"></iframe>"
      ],
      "text/plain": [
       "<plotly.tools.PlotlyDisplay object>"
      ]
     },
     "execution_count": 21,
     "metadata": {},
     "output_type": "execute_result"
    }
   ],
   "source": [
    "ts_slider(avg_T.Energy,\"Energy\")"
   ]
  },
  {
   "cell_type": "code",
   "execution_count": null,
   "metadata": {
    "collapsed": false
   },
   "outputs": [],
   "source": []
  },
  {
   "cell_type": "markdown",
   "metadata": {},
   "source": [
    "## Volatility Analysis"
   ]
  },
  {
   "cell_type": "code",
   "execution_count": 22,
   "metadata": {
    "collapsed": false
   },
   "outputs": [
    {
     "data": {
      "text/plain": [
       "Energy Changes        2008-10-06\n",
       "Finance Changes       2008-12-01\n",
       "Health Care Changes   2008-11-19\n",
       "Technology Changes    2008-12-01\n",
       "dtype: datetime64[ns]"
      ]
     },
     "execution_count": 22,
     "metadata": {},
     "output_type": "execute_result"
    }
   ],
   "source": [
    "# A new DF for the difference between each day:\n",
    "delta_df = pd.DataFrame()\n",
    "for sect in avg_T.columns:\n",
    "    delta_df[sect] = np.log(avg_T[sect].shift(1)) - np.log(avg_T[sect])\n",
    "delta_df.columns = map(lambda name: '{} Changes'.format(name),avg_T.columns)\n",
    "\n",
    "# On what day did the stock price spike the most?\n",
    "abs(delta_df).idxmax()"
   ]
  },
  {
   "cell_type": "code",
   "execution_count": 23,
   "metadata": {
    "collapsed": false
   },
   "outputs": [],
   "source": [
    "shade = delta_df['Energy Changes']"
   ]
  },
  {
   "cell_type": "code",
   "execution_count": 24,
   "metadata": {
    "collapsed": false
   },
   "outputs": [
    {
     "data": {
      "text/html": [
       "<div>\n",
       "<table border=\"1\" class=\"dataframe\">\n",
       "  <thead>\n",
       "    <tr style=\"text-align: right;\">\n",
       "      <th></th>\n",
       "      <th>Energy Changes</th>\n",
       "      <th>Finance Changes</th>\n",
       "      <th>Health Care Changes</th>\n",
       "      <th>Technology Changes</th>\n",
       "    </tr>\n",
       "  </thead>\n",
       "  <tbody>\n",
       "    <tr>\n",
       "      <th>2006-01-03</th>\n",
       "      <td>NaN</td>\n",
       "      <td>NaN</td>\n",
       "      <td>NaN</td>\n",
       "      <td>NaN</td>\n",
       "    </tr>\n",
       "    <tr>\n",
       "      <th>2006-01-04</th>\n",
       "      <td>0.007771</td>\n",
       "      <td>-0.002577</td>\n",
       "      <td>0.002982</td>\n",
       "      <td>-0.035812</td>\n",
       "    </tr>\n",
       "    <tr>\n",
       "      <th>2006-01-05</th>\n",
       "      <td>-0.021316</td>\n",
       "      <td>-0.006414</td>\n",
       "      <td>-0.009343</td>\n",
       "      <td>-0.009819</td>\n",
       "    </tr>\n",
       "    <tr>\n",
       "      <th>2006-01-06</th>\n",
       "      <td>0.003643</td>\n",
       "      <td>0.002561</td>\n",
       "      <td>-0.004282</td>\n",
       "      <td>-0.000425</td>\n",
       "    </tr>\n",
       "    <tr>\n",
       "      <th>2006-01-09</th>\n",
       "      <td>-0.006548</td>\n",
       "      <td>-0.004264</td>\n",
       "      <td>-0.011333</td>\n",
       "      <td>-0.023086</td>\n",
       "    </tr>\n",
       "  </tbody>\n",
       "</table>\n",
       "</div>"
      ],
      "text/plain": [
       "            Energy Changes  Finance Changes  Health Care Changes  \\\n",
       "2006-01-03             NaN              NaN                  NaN   \n",
       "2006-01-04        0.007771        -0.002577             0.002982   \n",
       "2006-01-05       -0.021316        -0.006414            -0.009343   \n",
       "2006-01-06        0.003643         0.002561            -0.004282   \n",
       "2006-01-09       -0.006548        -0.004264            -0.011333   \n",
       "\n",
       "            Technology Changes  \n",
       "2006-01-03                 NaN  \n",
       "2006-01-04           -0.035812  \n",
       "2006-01-05           -0.009819  \n",
       "2006-01-06           -0.000425  \n",
       "2006-01-09           -0.023086  "
      ]
     },
     "execution_count": 24,
     "metadata": {},
     "output_type": "execute_result"
    }
   ],
   "source": [
    "delta_df.head()"
   ]
  },
  {
   "cell_type": "code",
   "execution_count": 25,
   "metadata": {
    "collapsed": false,
    "scrolled": false
   },
   "outputs": [
    {
     "data": {
      "image/png": "[encoded data removed]",
      "text/plain": [
       "<matplotlib.figure.Figure at 0x112924a90>"
      ]
     },
     "metadata": {},
     "output_type": "display_data"
    }
   ],
   "source": [
    "plot_cols = list(delta_df)\n",
    "\n",
    "# 2 axes for 2 subplots\n",
    "fig, axes = plt.subplots(4,1, figsize=(10,7), sharex=True)\n",
    "#delta_df[plot_cols].plot(subplots=True, ax=axes)\n",
    "delta_df[plot_cols].plot(subplots=True, ax=axes)\n",
    "#plt.ylim([-0.20,0.150])\n",
    "plt.show()"
   ]
  },
  {
   "cell_type": "code",
   "execution_count": 90,
   "metadata": {
    "collapsed": false
   },
   "outputs": [
    {
     "ename": "IndexError",
     "evalue": "index 0 is out of bounds for axis 0 with size 0",
     "output_type": "error",
     "traceback": [
      "\u001b[0;31m---------------------------------------------------------------------------\u001b[0m",
      "\u001b[0;31mIndexError\u001b[0m                                Traceback (most recent call last)",
      "\u001b[0;32m<ipython-input-90-e1e205bd130d>\u001b[0m in \u001b[0;36m<module>\u001b[0;34m()\u001b[0m\n\u001b[1;32m      6\u001b[0m \u001b[0;34m\u001b[0m\u001b[0m\n\u001b[1;32m      7\u001b[0m \u001b[0;34m\u001b[0m\u001b[0m\n\u001b[0;32m----> 8\u001b[0;31m \u001b[0mpeak_bgn\u001b[0m \u001b[0;34m=\u001b[0m \u001b[0mpeak\u001b[0m\u001b[0;34m.\u001b[0m\u001b[0mindex\u001b[0m\u001b[0;34m[\u001b[0m\u001b[0;36m0\u001b[0m\u001b[0;34m]\u001b[0m\u001b[0;34m\u001b[0m\u001b[0m\n\u001b[0m\u001b[1;32m      9\u001b[0m \u001b[0mpeak_end\u001b[0m \u001b[0;34m=\u001b[0m \u001b[0mpeak\u001b[0m\u001b[0;34m.\u001b[0m\u001b[0mindex\u001b[0m\u001b[0;34m[\u001b[0m\u001b[0;34m-\u001b[0m\u001b[0;36m1\u001b[0m\u001b[0;34m]\u001b[0m\u001b[0;34m\u001b[0m\u001b[0m\n\u001b[1;32m     10\u001b[0m \u001b[0;34m\u001b[0m\u001b[0m\n",
      "\u001b[0;32m/Users/JakeWong/anaconda2/lib/python2.7/site-packages/pandas/tseries/base.pyc\u001b[0m in \u001b[0;36m__getitem__\u001b[0;34m(self, key)\u001b[0m\n\u001b[1;32m    190\u001b[0m         \u001b[0mgetitem\u001b[0m \u001b[0;34m=\u001b[0m \u001b[0mself\u001b[0m\u001b[0;34m.\u001b[0m\u001b[0m_data\u001b[0m\u001b[0;34m.\u001b[0m\u001b[0m__getitem__\u001b[0m\u001b[0;34m\u001b[0m\u001b[0m\n\u001b[1;32m    191\u001b[0m         \u001b[0;32mif\u001b[0m \u001b[0mlib\u001b[0m\u001b[0;34m.\u001b[0m\u001b[0misscalar\u001b[0m\u001b[0;34m(\u001b[0m\u001b[0mkey\u001b[0m\u001b[0;34m)\u001b[0m\u001b[0;34m:\u001b[0m\u001b[0;34m\u001b[0m\u001b[0m\n\u001b[0;32m--> 192\u001b[0;31m             \u001b[0mval\u001b[0m \u001b[0;34m=\u001b[0m \u001b[0mgetitem\u001b[0m\u001b[0;34m(\u001b[0m\u001b[0mkey\u001b[0m\u001b[0;34m)\u001b[0m\u001b[0;34m\u001b[0m\u001b[0m\n\u001b[0m\u001b[1;32m    193\u001b[0m             \u001b[0;32mreturn\u001b[0m \u001b[0mself\u001b[0m\u001b[0;34m.\u001b[0m\u001b[0m_box_func\u001b[0m\u001b[0;34m(\u001b[0m\u001b[0mval\u001b[0m\u001b[0;34m)\u001b[0m\u001b[0;34m\u001b[0m\u001b[0m\n\u001b[1;32m    194\u001b[0m         \u001b[0;32melse\u001b[0m\u001b[0;34m:\u001b[0m\u001b[0;34m\u001b[0m\u001b[0m\n",
      "\u001b[0;31mIndexError\u001b[0m: index 0 is out of bounds for axis 0 with size 0"
     ]
    }
   ],
   "source": [
    "# peak = abs_delta_df[(abs_delta_df >= 0.10).any(axis=1)]\n",
    "\n",
    "peak = abs_delta_df[(abs_delta_df >= 0.5).any(axis=1)]\n",
    "# peak2009 = peak.ix['2008':]\n",
    "\n",
    "\n",
    "\n",
    "peak_bgn = peak.index[0]\n",
    "peak_end = peak.index[-1]\n",
    "\n",
    "\n",
    "plot_cols = list(delta_df)\n",
    "\n",
    "# 2 axes for 2 subplots\n",
    "fig, axes = plt.subplots(4,1, figsize=(10,7), sharex=True)\n",
    "#delta_df[plot_cols].plot(subplots=True, ax=axes)\n",
    "delta_df[plot_cols].plot(subplots=True, ax=axes)\n",
    "#plt.ylim([-0.20,0.150])\n",
    "\n",
    "for ax in axes:\n",
    "    ax.axvspan(peak_bgn, peak_end, color=sns.xkcd_rgb['grey'], alpha=0.5)\n",
    "\n",
    "plt.show()\n",
    "\n"
   ]
  },
  {
   "cell_type": "code",
   "execution_count": 121,
   "metadata": {
    "collapsed": false
   },
   "outputs": [
    {
     "ename": "AttributeError",
     "evalue": "'Index' object has no attribute 'month'",
     "output_type": "error",
     "traceback": [
      "\u001b[0;31m---------------------------------------------------------------------------\u001b[0m",
      "\u001b[0;31mAttributeError\u001b[0m                            Traceback (most recent call last)",
      "\u001b[0;32m<ipython-input-121-1215db265d8d>\u001b[0m in \u001b[0;36m<module>\u001b[0;34m()\u001b[0m\n\u001b[1;32m      1\u001b[0m \u001b[0;31m# month = avg_T.groupby(avg_T.index.month).mean()\u001b[0m\u001b[0;34m\u001b[0m\u001b[0;34m\u001b[0m\u001b[0m\n\u001b[0;32m----> 2\u001b[0;31m \u001b[0mmonth\u001b[0m \u001b[0;34m=\u001b[0m \u001b[0mavg_T\u001b[0m\u001b[0;34m.\u001b[0m\u001b[0mgroupby\u001b[0m\u001b[0;34m(\u001b[0m\u001b[0mavg_T\u001b[0m\u001b[0;34m.\u001b[0m\u001b[0mindex\u001b[0m\u001b[0;34m.\u001b[0m\u001b[0mmonth\u001b[0m\u001b[0;34m)\u001b[0m\u001b[0;34m.\u001b[0m\u001b[0msum\u001b[0m\u001b[0;34m(\u001b[0m\u001b[0;34m)\u001b[0m\u001b[0;34m\u001b[0m\u001b[0m\n\u001b[0m\u001b[1;32m      3\u001b[0m \u001b[0;34m\u001b[0m\u001b[0m\n",
      "\u001b[0;31mAttributeError\u001b[0m: 'Index' object has no attribute 'month'"
     ]
    }
   ],
   "source": [
    "# month = avg_T.groupby(avg_T.index.month).mean()\n",
    "month = avg_T.groupby(avg_T.index.month).sum()\n",
    "\n"
   ]
  },
  {
   "cell_type": "code",
   "execution_count": 123,
   "metadata": {
    "collapsed": false
   },
   "outputs": [
    {
     "data": {
      "text/plain": [
       "DatetimeIndex(['2006-01-03', '2006-01-04', '2006-01-05', '2006-01-06',\n",
       "               '2006-01-09', '2006-01-10', '2006-01-11', '2006-01-12',\n",
       "               '2006-01-13', '2006-01-17',\n",
       "               ...\n",
       "               '2016-12-16', '2016-12-19', '2016-12-20', '2016-12-21',\n",
       "               '2016-12-22', '2016-12-23', '2016-12-27', '2016-12-28',\n",
       "               '2016-12-29', '2016-12-30'],\n",
       "              dtype='datetime64[ns]', length=2769, freq=None)"
      ]
     },
     "execution_count": 123,
     "metadata": {},
     "output_type": "execute_result"
    }
   ],
   "source": [
    "abs_delta_df.index"
   ]
  },
  {
   "cell_type": "code",
   "execution_count": 124,
   "metadata": {
    "collapsed": false
   },
   "outputs": [
    {
     "data": {
      "text/plain": [
       "Index([2006-01-03 00:00:00, 2006-01-04 00:00:00, 2006-01-05 00:00:00,\n",
       "       2006-01-06 00:00:00, 2006-01-09 00:00:00, 2006-01-10 00:00:00,\n",
       "       2006-01-11 00:00:00, 2006-01-12 00:00:00, 2006-01-13 00:00:00,\n",
       "       2006-01-17 00:00:00,\n",
       "       ...\n",
       "       2016-12-16 00:00:00, 2016-12-19 00:00:00, 2016-12-20 00:00:00,\n",
       "       2016-12-21 00:00:00, 2016-12-22 00:00:00, 2016-12-23 00:00:00,\n",
       "       2016-12-27 00:00:00, 2016-12-28 00:00:00, 2016-12-29 00:00:00,\n",
       "       2016-12-30 00:00:00],\n",
       "      dtype='object', length=2769)"
      ]
     },
     "execution_count": 124,
     "metadata": {},
     "output_type": "execute_result"
    }
   ],
   "source": [
    "avg_T.index"
   ]
  },
  {
   "cell_type": "code",
   "execution_count": null,
   "metadata": {
    "collapsed": true
   },
   "outputs": [],
   "source": []
  },
  {
   "cell_type": "markdown",
   "metadata": {},
   "source": [
    "## Test: Which month has the highest volatility?"
   ]
  },
  {
   "cell_type": "code",
   "execution_count": 27,
   "metadata": {
    "collapsed": false
   },
   "outputs": [
    {
     "data": {
      "text/html": [
       "<div>\n",
       "<table border=\"1\" class=\"dataframe\">\n",
       "  <thead>\n",
       "    <tr style=\"text-align: right;\">\n",
       "      <th></th>\n",
       "      <th>Energy Changes</th>\n",
       "      <th>Finance Changes</th>\n",
       "      <th>Health Care Changes</th>\n",
       "      <th>Technology Changes</th>\n",
       "    </tr>\n",
       "  </thead>\n",
       "  <tbody>\n",
       "    <tr>\n",
       "      <th>1</th>\n",
       "      <td>5.579697</td>\n",
       "      <td>2.292274</td>\n",
       "      <td>3.983668</td>\n",
       "      <td>3.575874</td>\n",
       "    </tr>\n",
       "    <tr>\n",
       "      <th>2</th>\n",
       "      <td>5.153948</td>\n",
       "      <td>1.725488</td>\n",
       "      <td>3.177925</td>\n",
       "      <td>2.995240</td>\n",
       "    </tr>\n",
       "    <tr>\n",
       "      <th>3</th>\n",
       "      <td>5.517229</td>\n",
       "      <td>2.258931</td>\n",
       "      <td>4.191325</td>\n",
       "      <td>3.491156</td>\n",
       "    </tr>\n",
       "    <tr>\n",
       "      <th>4</th>\n",
       "      <td>4.583842</td>\n",
       "      <td>1.896602</td>\n",
       "      <td>3.660335</td>\n",
       "      <td>3.011856</td>\n",
       "    </tr>\n",
       "    <tr>\n",
       "      <th>5</th>\n",
       "      <td>5.179666</td>\n",
       "      <td>1.909797</td>\n",
       "      <td>3.654547</td>\n",
       "      <td>3.306427</td>\n",
       "    </tr>\n",
       "    <tr>\n",
       "      <th>6</th>\n",
       "      <td>4.531683</td>\n",
       "      <td>2.211246</td>\n",
       "      <td>3.878905</td>\n",
       "      <td>3.338665</td>\n",
       "    </tr>\n",
       "    <tr>\n",
       "      <th>7</th>\n",
       "      <td>4.570591</td>\n",
       "      <td>1.928904</td>\n",
       "      <td>3.694508</td>\n",
       "      <td>3.224373</td>\n",
       "    </tr>\n",
       "    <tr>\n",
       "      <th>8</th>\n",
       "      <td>5.905949</td>\n",
       "      <td>2.439180</td>\n",
       "      <td>3.975516</td>\n",
       "      <td>3.614457</td>\n",
       "    </tr>\n",
       "    <tr>\n",
       "      <th>9</th>\n",
       "      <td>5.347203</td>\n",
       "      <td>2.091582</td>\n",
       "      <td>3.754380</td>\n",
       "      <td>3.259025</td>\n",
       "    </tr>\n",
       "    <tr>\n",
       "      <th>10</th>\n",
       "      <td>6.048092</td>\n",
       "      <td>2.669991</td>\n",
       "      <td>4.596439</td>\n",
       "      <td>4.065775</td>\n",
       "    </tr>\n",
       "    <tr>\n",
       "      <th>11</th>\n",
       "      <td>5.547477</td>\n",
       "      <td>2.488493</td>\n",
       "      <td>3.521998</td>\n",
       "      <td>4.112071</td>\n",
       "    </tr>\n",
       "    <tr>\n",
       "      <th>12</th>\n",
       "      <td>4.527409</td>\n",
       "      <td>2.301069</td>\n",
       "      <td>3.779710</td>\n",
       "      <td>3.537954</td>\n",
       "    </tr>\n",
       "  </tbody>\n",
       "</table>\n",
       "</div>"
      ],
      "text/plain": [
       "    Energy Changes  Finance Changes  Health Care Changes  Technology Changes\n",
       "1         5.579697         2.292274             3.983668            3.575874\n",
       "2         5.153948         1.725488             3.177925            2.995240\n",
       "3         5.517229         2.258931             4.191325            3.491156\n",
       "4         4.583842         1.896602             3.660335            3.011856\n",
       "5         5.179666         1.909797             3.654547            3.306427\n",
       "6         4.531683         2.211246             3.878905            3.338665\n",
       "7         4.570591         1.928904             3.694508            3.224373\n",
       "8         5.905949         2.439180             3.975516            3.614457\n",
       "9         5.347203         2.091582             3.754380            3.259025\n",
       "10        6.048092         2.669991             4.596439            4.065775\n",
       "11        5.547477         2.488493             3.521998            4.112071\n",
       "12        4.527409         2.301069             3.779710            3.537954"
      ]
     },
     "execution_count": 27,
     "metadata": {},
     "output_type": "execute_result"
    }
   ],
   "source": [
    "# double check, would it make more sense to look at sum of absolute changes?\n",
    "# This wouldn't give us direction though.\n",
    "abs_delta_df = abs(delta_df)\n",
    "months = abs_delta_df.groupby(delta_df.index.month).sum()\n",
    "months"
   ]
  },
  {
   "cell_type": "code",
   "execution_count": 28,
   "metadata": {
    "collapsed": false
   },
   "outputs": [
    {
     "data": {
      "image/png": "[encoded data removed]",
      "text/plain": [
       "<matplotlib.figure.Figure at 0x12a109f10>"
      ]
     },
     "metadata": {},
     "output_type": "display_data"
    }
   ],
   "source": [
    "sns.set_style(\"whitegrid\")\n",
    "\n",
    "ax = sns.barplot(x=months.index, y=\"Energy Changes\", data=months)"
   ]
  },
  {
   "cell_type": "code",
   "execution_count": 29,
   "metadata": {
    "collapsed": false
   },
   "outputs": [
    {
     "data": {
      "text/html": [
       "<div>\n",
       "<table border=\"1\" class=\"dataframe\">\n",
       "  <thead>\n",
       "    <tr style=\"text-align: right;\">\n",
       "      <th></th>\n",
       "      <th>Energy Changes</th>\n",
       "      <th>Finance Changes</th>\n",
       "      <th>Health Care Changes</th>\n",
       "      <th>Technology Changes</th>\n",
       "      <th>total</th>\n",
       "    </tr>\n",
       "  </thead>\n",
       "  <tbody>\n",
       "    <tr>\n",
       "      <th>1</th>\n",
       "      <td>5.579697</td>\n",
       "      <td>2.292274</td>\n",
       "      <td>3.983668</td>\n",
       "      <td>3.575874</td>\n",
       "      <td>15.431513</td>\n",
       "    </tr>\n",
       "    <tr>\n",
       "      <th>2</th>\n",
       "      <td>5.153948</td>\n",
       "      <td>1.725488</td>\n",
       "      <td>3.177925</td>\n",
       "      <td>2.995240</td>\n",
       "      <td>13.052601</td>\n",
       "    </tr>\n",
       "    <tr>\n",
       "      <th>3</th>\n",
       "      <td>5.517229</td>\n",
       "      <td>2.258931</td>\n",
       "      <td>4.191325</td>\n",
       "      <td>3.491156</td>\n",
       "      <td>15.458640</td>\n",
       "    </tr>\n",
       "    <tr>\n",
       "      <th>4</th>\n",
       "      <td>4.583842</td>\n",
       "      <td>1.896602</td>\n",
       "      <td>3.660335</td>\n",
       "      <td>3.011856</td>\n",
       "      <td>13.152635</td>\n",
       "    </tr>\n",
       "    <tr>\n",
       "      <th>5</th>\n",
       "      <td>5.179666</td>\n",
       "      <td>1.909797</td>\n",
       "      <td>3.654547</td>\n",
       "      <td>3.306427</td>\n",
       "      <td>14.050437</td>\n",
       "    </tr>\n",
       "  </tbody>\n",
       "</table>\n",
       "</div>"
      ],
      "text/plain": [
       "   Energy Changes  Finance Changes  Health Care Changes  Technology Changes  \\\n",
       "1        5.579697         2.292274             3.983668            3.575874   \n",
       "2        5.153948         1.725488             3.177925            2.995240   \n",
       "3        5.517229         2.258931             4.191325            3.491156   \n",
       "4        4.583842         1.896602             3.660335            3.011856   \n",
       "5        5.179666         1.909797             3.654547            3.306427   \n",
       "\n",
       "       total  \n",
       "1  15.431513  \n",
       "2  13.052601  \n",
       "3  15.458640  \n",
       "4  13.152635  \n",
       "5  14.050437  "
      ]
     },
     "execution_count": 29,
     "metadata": {},
     "output_type": "execute_result"
    }
   ],
   "source": [
    "months[\"total\"] = months.sum(axis=1)\n",
    "months.head()"
   ]
  },
  {
   "cell_type": "code",
   "execution_count": 30,
   "metadata": {
    "collapsed": false
   },
   "outputs": [],
   "source": [
    "sns.set_style(\"white\")\n",
    "sns.set_context({\"figure.figsize\": (20, 10)})"
   ]
  },
  {
   "cell_type": "code",
   "execution_count": 31,
   "metadata": {
    "collapsed": false
   },
   "outputs": [
    {
     "ename": "NameError",
     "evalue": "name 'bottom_plot' is not defined",
     "output_type": "error",
     "traceback": [
      "\u001b[0;31m---------------------------------------------------------------------------\u001b[0m",
      "\u001b[0;31mNameError\u001b[0m                                 Traceback (most recent call last)",
      "\u001b[0;32m<ipython-input-31-8d91579b026d>\u001b[0m in \u001b[0;36m<module>\u001b[0;34m()\u001b[0m\n\u001b[1;32m     16\u001b[0m \u001b[0;31m#Set fonts to consistent 16pt size\u001b[0m\u001b[0;34m\u001b[0m\u001b[0;34m\u001b[0m\u001b[0m\n\u001b[1;32m     17\u001b[0m for item in ([bottom_plot.xaxis.label, bottom_plot.yaxis.label] +\n\u001b[0;32m---> 18\u001b[0;31m              bottom_plot.get_xticklabels() + bottom_plot.get_yticklabels()):\n\u001b[0m\u001b[1;32m     19\u001b[0m     \u001b[0mitem\u001b[0m\u001b[0;34m.\u001b[0m\u001b[0mset_fontsize\u001b[0m\u001b[0;34m(\u001b[0m\u001b[0;36m16\u001b[0m\u001b[0;34m)\u001b[0m\u001b[0;34m\u001b[0m\u001b[0m\n",
      "\u001b[0;31mNameError\u001b[0m: name 'bottom_plot' is not defined"
     ]
    },
    {
     "data": {
      "image/png": "[encoded data removed]",
      "text/plain": [
       "<matplotlib.figure.Figure at 0x1054790d0>"
      ]
     },
     "metadata": {},
     "output_type": "display_data"
    }
   ],
   "source": [
    "sns.barplot(x = months.index, y = months.total, color = \"red\")\n",
    "health_plot = sns.barplot(x = months.index, y = months['Health Care Changes']+months['Energy Changes']+months['Finance Changes'], color = \"yellow\")\n",
    "fin_plot = sns.barplot(x = months.index, y = months['Finance Changes']+months['Energy Changes'], color = \"blue\")\n",
    "eng_plot = sns.barplot(x = months.index, y = months['Energy Changes'], color = \"green\")\n",
    "\n",
    "topbar = plt.Rectangle((0,0),1,1,fc=\"red\", edgecolor = 'none')\n",
    "bottombar = plt.Rectangle((0,0),1,1,fc='#0000A3',  edgecolor = 'none')\n",
    "l = plt.legend([bottombar, topbar], ['Energy Changes', 'Finance Changes'], loc=1, ncol = 2, prop={'size':16})\n",
    "l.draw_frame(False)\n",
    "\n",
    "#Optional code - Make plot look nicer\n",
    "sns.despine(left=True)\n",
    "eng_plot.set_ylabel(\"Total Absolute Closing Price Changs\")\n",
    "eng_plot.set_xlabel(\"Months\")\n",
    "\n",
    "#Set fonts to consistent 16pt size\n",
    "for item in ([bottom_plot.xaxis.label, bottom_plot.yaxis.label] +\n",
    "             bottom_plot.get_xticklabels() + bottom_plot.get_yticklabels()):\n",
    "    item.set_fontsize(16)"
   ]
  },
  {
   "cell_type": "code",
   "execution_count": null,
   "metadata": {
    "collapsed": true
   },
   "outputs": [],
   "source": []
  },
  {
   "cell_type": "markdown",
   "metadata": {},
   "source": [
    "## Subset Data of Dataframe"
   ]
  },
  {
   "cell_type": "code",
   "execution_count": null,
   "metadata": {
    "collapsed": false
   },
   "outputs": [],
   "source": [
    "# 261 not right number, why is our last day 12-30-2016? -261 maybe?\n",
    "year = delta_df.iloc[-100:,:]\n",
    "\n",
    "plot_cols = list(year)\n",
    "\n",
    "# 2 axes for 2 subplots\n",
    "fig, axes = plt.subplots(4,1, figsize=(10,7), sharex=True)\n",
    "#delta_df[plot_cols].plot(subplots=True, ax=axes)\n",
    "year[plot_cols].plot(subplots=True, ax=axes)\n",
    "#plt.ylim([-0.20,0.150])\n",
    "plt.show()"
   ]
  },
  {
   "cell_type": "markdown",
   "metadata": {},
   "source": [
    "#### Mega-function with everything related to the NYT API inside (work in progress)"
   ]
  },
  {
   "cell_type": "code",
   "execution_count": 32,
   "metadata": {
    "collapsed": true
   },
   "outputs": [],
   "source": [
    "from nytimesarticle import articleAPI\n",
    "import time\n",
    "# OLD KEY (hit my limit): api = articleAPI('2679a66fe8df4740b754f98e52ad068c')\n",
    "api = articleAPI('e031fcaf03da4b3c949e505c4aa69a5b')\n",
    "def news_articles(sector,start,end,pages):\n",
    "    sector_df = pd.DataFrame()\n",
    "    for i in range(pages):\n",
    "        try:\n",
    "            if sector == 'Health Care':\n",
    "                sector_articles = api.search( \n",
    "                    q = 'Health',\n",
    "                    fq = {\n",
    "                        'news_desk':'Business',\n",
    "                        'section_name':'Business',\n",
    "                        'subject.contains':['Health','Drugs'],\n",
    "                        'type_of_material':'News'\n",
    "                    },\n",
    "                    begin_date = start,\n",
    "                    end_date = end,\n",
    "                    sort = 'oldest',\n",
    "                    page = i\n",
    "                )\n",
    "            if sector == 'Technology':\n",
    "                sector_articles = api.search(\n",
    "                    fq = {\n",
    "                        'news_desk.contains':'Business',\n",
    "                        'section_name':'Technology',\n",
    "                        'subject.contains':['Acquisitions'],\n",
    "                        'type_of_material':'News'\n",
    "                    },\n",
    "                    begin_date = start,\n",
    "                    end_date = end,\n",
    "                    sort = 'oldest',\n",
    "                    page = i\n",
    "                )\n",
    "            if sector == 'Energy':\n",
    "                sector_articles = api.search( \n",
    "                    q = 'Energy & Environment',\n",
    "                    fq = {\n",
    "                        'news_desk':'Business',\n",
    "                        'subject.contains':['Energy','Renewable','Gas','Acquisitions'],\n",
    "                        'section_name':'Business',\n",
    "                        'type_of_material':'News'\n",
    "                    }, \n",
    "                    begin_date = start,\n",
    "                    end_date = end,\n",
    "                    sort = 'oldest',\n",
    "                    page = i\n",
    "                )\n",
    "            if sector == 'Finance':\n",
    "                sector_articles = api.search( \n",
    "                    q = 'Finance',\n",
    "                    fq = {\n",
    "                        'news_desk':'Business',\n",
    "                        'subject.contains':['Banking','Financial'],\n",
    "                        'section_name':'Business',\n",
    "                        'type_of_material':'News'\n",
    "                    }, \n",
    "                    begin_date = start,\n",
    "                    end_date = end,\n",
    "                    sort = 'oldest',\n",
    "                    page = i\n",
    "                )\n",
    "            df_i = sector_articles['response']['docs']\n",
    "            sector_df = sector_df.append(df_i) \n",
    "            time.sleep(0.5)   # API only allows 5 calls per second. This slows it down!\n",
    "        except KeyError:\n",
    "            break\n",
    "        except IndexError:\n",
    "            break\n",
    "    return sector_df.reset_index()"
   ]
  },
  {
   "cell_type": "markdown",
   "metadata": {},
   "source": [
    "###### Important Notes:\n",
    "**Asking for over 100 pages at once (necessary for a 10-year span) leads to unpredictable results.**\n",
    "* Ideally I would do something like: ```news_articles('Health Care',20060101,20170101,500)```, but the function simply stops running around 110~120 pages.\n",
    "* My solution: Split the desired time frame, make separate calls, concatenate the results, save locally\n",
    "* Even with this work-around, it takes multiple tries to obtain the correct result."
   ]
  },
  {
   "cell_type": "code",
   "execution_count": 33,
   "metadata": {
    "collapsed": false
   },
   "outputs": [
    {
     "data": {
      "text/plain": [
       "\"\\nThe following code locally stores the news data. Please do not run this block!\\n\\nhealthcare_news1 = news_articles('Health Care',20060101,20091231,100)\\nhealthcare_news2 = news_articles('Health Care',20100101,20131231,100)\\nhealthcare_news3 = news_articles('Health Care',20140101,20161231,100)\\nhealthcare_news = pd.concat([healthcare_news1,healthcare_news2,healthcare_news3],ignore_index=True)\\nhealthcare_news['Sector'] = 'Health Care'\\ntech_news = news_articles('Technology',100)\\ntech_news['Sector'] = 'Technology'\\nenergy_news1 = news_articles('Energy',20060101,20091231,100)\\nenergy_news2 = news_articles('Energy',20100101,20131231,100)\\nenergy_news3 = news_articles('Energy',20140101,20161231,100)\\nenergy_news = pd.concat([energy_news1,energy_news2,energy_news3])\\nenergy_news['Sector']='Energy'\\nfinance_news1 = news_articles('Finance',20060101,20091231,100)\\nfinance_news2 = news_articles('Finance',20100101,20131231,100)\\nfinance_news3 = news_articles('Finance',20140101,20161231,100)\\nfinance_news = pd.concat([finance_news1,finance_news2,finance_news3])\\nfinance_news['Sector']='Finance'\\nall_news = pd.concat([healthcare_news,tech_news,energy_news,finance_news],ignore_index=True)\\n# all_news.to_pickle('news_df')\\n\""
      ]
     },
     "execution_count": 33,
     "metadata": {},
     "output_type": "execute_result"
    }
   ],
   "source": [
    "'''\n",
    "The following code locally stores the news data. Please do not run this block!\n",
    "\n",
    "healthcare_news1 = news_articles('Health Care',20060101,20091231,100)\n",
    "healthcare_news2 = news_articles('Health Care',20100101,20131231,100)\n",
    "healthcare_news3 = news_articles('Health Care',20140101,20161231,100)\n",
    "healthcare_news = pd.concat([healthcare_news1,healthcare_news2,healthcare_news3],ignore_index=True)\n",
    "healthcare_news['Sector'] = 'Health Care'\n",
    "tech_news = news_articles('Technology',100)\n",
    "tech_news['Sector'] = 'Technology'\n",
    "energy_news1 = news_articles('Energy',20060101,20091231,100)\n",
    "energy_news2 = news_articles('Energy',20100101,20131231,100)\n",
    "energy_news3 = news_articles('Energy',20140101,20161231,100)\n",
    "energy_news = pd.concat([energy_news1,energy_news2,energy_news3])\n",
    "energy_news['Sector']='Energy'\n",
    "finance_news1 = news_articles('Finance',20060101,20091231,100)\n",
    "finance_news2 = news_articles('Finance',20100101,20131231,100)\n",
    "finance_news3 = news_articles('Finance',20140101,20161231,100)\n",
    "finance_news = pd.concat([finance_news1,finance_news2,finance_news3])\n",
    "finance_news['Sector']='Finance'\n",
    "all_news = pd.concat([healthcare_news,tech_news,energy_news,finance_news],ignore_index=True)\n",
    "# all_news.to_pickle('news_df')\n",
    "'''"
   ]
  },
  {
   "cell_type": "code",
   "execution_count": 34,
   "metadata": {
    "collapsed": false,
    "scrolled": true
   },
   "outputs": [],
   "source": [
    "all_news = pd.read_pickle('news_df')"
   ]
  },
  {
   "cell_type": "code",
   "execution_count": 35,
   "metadata": {
    "collapsed": true
   },
   "outputs": [],
   "source": [
    "headlines = [d.get('main') for d in all_news.headline]\n",
    "dates = list(pd.to_datetime(all_news['pub_date']))\n",
    "all_news['Sector'] = all_news['Sector'].astype('category')\n",
    "sector_levels = all_news.Sector.cat.codes\n",
    "\n",
    "# Data Frame for plot.ly Timeline:\n",
    "pltdf = pd.DataFrame(\n",
    "    {'Date':dates,\n",
    "     'Title':headlines,\n",
    "     'Sector':list(all_news.Sector),  \n",
    "     'Level':sector_levels\n",
    "    })"
   ]
  },
  {
   "cell_type": "markdown",
   "metadata": {},
   "source": [
    "### Timeline:"
   ]
  },
  {
   "cell_type": "code",
   "execution_count": 36,
   "metadata": {
    "collapsed": false
   },
   "outputs": [
    {
     "data": {
      "text/html": [
       "<iframe id=\"igraph\" scrolling=\"no\" style=\"border:none;\" seamless=\"seamless\" src=\"https://plot.ly/~audchu/38.embed\" height=\"525px\" width=\"100%\"></iframe>"
      ],
      "text/plain": [
       "<plotly.tools.PlotlyDisplay object>"
      ]
     },
     "execution_count": 36,
     "metadata": {},
     "output_type": "execute_result"
    }
   ],
   "source": [
    "import plotly.plotly as py\n",
    "import plotly.graph_objs as go\n",
    "\n",
    "fig = {\n",
    "    'data': [\n",
    "        {\n",
    "            'x': pltdf[pltdf['Sector']==sector]['Date'],\n",
    "            'y': pltdf[pltdf['Sector']==sector]['Level'],\n",
    "            'text': pltdf[pltdf['Sector']==sector]['Title'],\n",
    "            'name': sector, 'mode': 'markers',\n",
    "        } for sector in reversed(all_news['Sector'].cat.categories)\n",
    "        ]\n",
    "    }\n",
    "py.iplot(fig, filename='plotly_test')"
   ]
  },
  {
   "cell_type": "markdown",
   "metadata": {
    "collapsed": true
   },
   "source": [
    "# Time Series Analysis"
   ]
  },
  {
   "cell_type": "code",
   "execution_count": 37,
   "metadata": {
    "collapsed": false
   },
   "outputs": [],
   "source": [
    "ts_eng = delta_df['Energy Changes']\n",
    "# Why do we get an NA for Nov 1 2016?\n",
    "# Need to change following date range\n",
    "# ts_eng['2016-11-02':'2017-03-01']"
   ]
  },
  {
   "cell_type": "markdown",
   "metadata": {},
   "source": [
    "## Check Stationarity\n",
    "\n",
    "Dickey-Fuller Test: tests the null hypothesis of whether a u nit root is present in an autoregressive model.  "
   ]
  },
  {
   "cell_type": "code",
   "execution_count": 38,
   "metadata": {
    "collapsed": false
   },
   "outputs": [
    {
     "ename": "SyntaxError",
     "evalue": "invalid syntax (<ipython-input-38-3654f028321e>, line 17)",
     "output_type": "error",
     "traceback": [
      "\u001b[0;36m  File \u001b[0;32m\"<ipython-input-38-3654f028321e>\"\u001b[0;36m, line \u001b[0;32m17\u001b[0m\n\u001b[0;31m    print 'Results of Dickey-Fuller Test:'\u001b[0m\n\u001b[0m                                         ^\u001b[0m\n\u001b[0;31mSyntaxError\u001b[0m\u001b[0;31m:\u001b[0m invalid syntax\n"
     ]
    }
   ],
   "source": [
    "from statsmodels.tsa.stattools import adfuller\n",
    "def test_stationarity(timeseries):\n",
    "    \n",
    "    #Determing rolling statistics\n",
    "    rolmean = pd.rolling_mean(timeseries, window=12)\n",
    "    rolstd = pd.rolling_std(timeseries, window=12)\n",
    "\n",
    "    #Plot rolling statistics:\n",
    "    orig = plt.plot(timeseries, color='blue',label='Original')\n",
    "    mean = plt.plot(rolmean, color='red', label='Rolling Mean')\n",
    "    std = plt.plot(rolstd, color='black', label = 'Rolling Std')\n",
    "    plt.legend(loc='best')\n",
    "    plt.title('Rolling Mean & Standard Deviation')\n",
    "    plt.show(block=False)\n",
    "    \n",
    "    #Perform Dickey-Fuller test:\n",
    "    print 'Results of Dickey-Fuller Test:'\n",
    "    dftest = adfuller(timeseries, autolag='AIC')\n",
    "    dfoutput = pd.Series(dftest[0:4], index=['Test Statistic','p-value','#Lags Used','Number of Observations Used'])\n",
    "    for key,value in dftest[4].items():\n",
    "        dfoutput['Critical Value (%s)'%key] = value\n",
    "    print dfoutput\n"
   ]
  },
  {
   "cell_type": "markdown",
   "metadata": {
    "collapsed": false
   },
   "source": [
    "test_stationarity(ts_eng)"
   ]
  },
  {
   "cell_type": "code",
   "execution_count": null,
   "metadata": {
    "collapsed": false
   },
   "outputs": [],
   "source": [
    "testE = delta_df[\"Energy Changes\"]"
   ]
  },
  {
   "cell_type": "markdown",
   "metadata": {},
   "source": [
    "# Energy Sector Time Series"
   ]
  },
  {
   "cell_type": "code",
   "execution_count": null,
   "metadata": {
    "collapsed": false
   },
   "outputs": [],
   "source": [
    "E_log = np.log(avg_T.iloc[-365:,:]['Health Care'])"
   ]
  },
  {
   "cell_type": "code",
   "execution_count": null,
   "metadata": {
    "collapsed": false
   },
   "outputs": [],
   "source": [
    "E_log_diff = E_log - E_log.shift()\n",
    "plt.plot(E_log_diff)"
   ]
  },
  {
   "cell_type": "code",
   "execution_count": null,
   "metadata": {
    "collapsed": false
   },
   "outputs": [],
   "source": [
    "fig = plt.figure(figsize=(8,8))\n",
    "ax1 = fig.add_subplot(211) \n",
    "fig = sm.graphics.tsa.plot_acf(E_log_diff[1:].values.squeeze(),lags = 40,ax=ax1)\n",
    "plt.ylim([-0.15,0.15])\n",
    "ax2 = fig.add_subplot(212)\n",
    "fig = sm.graphics.tsa.plot_pacf(E_log_diff[1:],lags =40, ax= ax2)\n",
    "plt.ylim([-0.15,0.15])"
   ]
  },
  {
   "cell_type": "code",
   "execution_count": null,
   "metadata": {
    "collapsed": false
   },
   "outputs": [],
   "source": [
    "E_log_diff.dropna(inplace=True)\n",
    "test_stationarity(E_log_diff)"
   ]
  },
  {
   "cell_type": "code",
   "execution_count": null,
   "metadata": {
    "collapsed": true
   },
   "outputs": [],
   "source": []
  }
 ],
 "metadata": {
  "anaconda-cloud": {},
  "kernelspec": {
   "display_name": "Python [default]",
   "language": "python",
   "name": "python2"
  },
  "language_info": {
   "codemirror_mode": {
    "name": "ipython",
    "version": 2
   },
   "file_extension": ".py",
   "mimetype": "text/x-python",
   "name": "python",
   "nbconvert_exporter": "python",
   "pygments_lexer": "ipython2",
   "version": "2.7.12"
  }
 },
 "nbformat": 4,
 "nbformat_minor": 1
}
